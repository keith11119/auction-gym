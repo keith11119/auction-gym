{
 "cells": [
  {
   "cell_type": "code",
   "execution_count": 1,
   "metadata": {
    "collapsed": true
   },
   "outputs": [],
   "source": [
    "import matplotlib.pyplot as plt\n",
    "import numpy as np\n",
    "from collections import defaultdict\n",
    "from main import parse_config, instantiate_agents, instantiate_auction\n",
    "from tqdm.notebook import tqdm"
   ]
  },
  {
   "cell_type": "code",
   "execution_count": 2,
   "outputs": [],
   "source": [
    "# Parse configuration file\n",
    "rng, config, agent_configs, agents2items, agents2item_values,\\\n",
    "num_runs, max_slots, embedding_size, embedding_var,\\\n",
    "obs_embedding_size = parse_config('../config/FP_DM_Oracle.json')"
   ],
   "metadata": {
    "collapsed": false
   }
  },
  {
   "cell_type": "code",
   "execution_count": 7,
   "outputs": [],
   "source": [
    "# Placeholders for output\n",
    "auction_revenue = []\n",
    "social_welfare = []\n",
    "social_surplus = []\n",
    "# Instantiate Agent and Auction objects\n",
    "# Context comes from the embedding var and size to generate a normal distribution\n",
    "agents = instantiate_agents(rng, agent_configs, agents2item_values, agents2items)"
   ],
   "metadata": {
    "collapsed": false
   }
  },
  {
   "cell_type": "code",
   "execution_count": 42,
   "outputs": [],
   "source": [
    "auction, num_iter, rounds_per_iter, output_dir =\\\n",
    "    instantiate_auction(rng,\n",
    "                        config,\n",
    "                        agents2items,\n",
    "                        agents2item_values,\n",
    "                        agents,\n",
    "                        max_slots,\n",
    "                        embedding_size,\n",
    "                        embedding_var,\n",
    "                        obs_embedding_size)"
   ],
   "metadata": {
    "collapsed": false
   }
  },
  {
   "cell_type": "code",
   "execution_count": 43,
   "outputs": [],
   "source": [
    "self = auction"
   ],
   "metadata": {
    "collapsed": false
   }
  },
  {
   "cell_type": "code",
   "execution_count": 44,
   "outputs": [],
   "source": [
    "import numpy as np\n",
    "\n",
    "from BidderAllocation import OracleAllocator\n",
    "from Models import sigmoid"
   ],
   "metadata": {
    "collapsed": false
   }
  },
  {
   "cell_type": "code",
   "execution_count": 45,
   "outputs": [],
   "source": [
    "num_slots = self.rng.integers(1, self.max_slots + 1)\n",
    "\n",
    "# Sample a true context vector\n",
    "# The true context vector is the same for all agents\n",
    "# the last element is always 1.0 to account for the bias\n",
    "true_context = np.concatenate((self.rng.normal(0, self.embedding_var, size=self.embedding_size), [1.0]))\n",
    "\n",
    "# Mask true context into observable context\n",
    "obs_context = np.concatenate((true_context[:self.obs_embedding_size], [1.0]))\n",
    "\n",
    "# At this point, the auctioneer solicits bids from\n",
    "# the list of bidders that might want to compete.\n",
    "bids = []\n",
    "CTRs = []\n",
    "participating_agents_idx = self.rng.choice(len(self.agents), self.num_participants_per_round, replace=False)\n",
    "participating_agents = [self.agents[idx] for idx in participating_agents_idx]\n",
    "for agent in participating_agents:\n",
    "    # Get the bid and the allocated item\n",
    "    # OracleAllocator needs to know the true context\n",
    "    if isinstance(agent.allocator, OracleAllocator):\n",
    "        bid, item = agent.bid(true_context)\n",
    "    else:\n",
    "        bid, item = agent.bid(obs_context)\n",
    "    bids.append(bid)\n",
    "    # Compute the true CTRs for items in this agent's catalogue\n",
    "    true_CTR = sigmoid(true_context @ self.agent2items[agent.name].T)\n",
    "    agent.logs[-1].set_true_CTR(np.max(true_CTR * self.agents2item_values[agent.name]), true_CTR[item])\n",
    "    CTRs.append(true_CTR[item])\n",
    "bids = np.array(bids)\n",
    "CTRs = np.array(CTRs)"
   ],
   "metadata": {
    "collapsed": false
   }
  },
  {
   "cell_type": "code",
   "execution_count": 46,
   "outputs": [
    {
     "data": {
      "text/plain": "<Auction.Auction at 0x145c4b520>"
     },
     "execution_count": 46,
     "metadata": {},
     "output_type": "execute_result"
    }
   ],
   "source": [
    "self"
   ],
   "metadata": {
    "collapsed": false
   }
  },
  {
   "cell_type": "code",
   "execution_count": 49,
   "outputs": [
    {
     "data": {
      "text/plain": "(7, 0.01956650560803386)"
     },
     "execution_count": 49,
     "metadata": {},
     "output_type": "execute_result"
    }
   ],
   "source": [
    "self.agents[1].select_item(true_context)"
   ],
   "metadata": {
    "collapsed": false
   }
  },
  {
   "cell_type": "code",
   "execution_count": 32,
   "outputs": [],
   "source": [
    "self = agent.bidder"
   ],
   "metadata": {
    "collapsed": false
   }
  },
  {
   "cell_type": "code",
   "execution_count": 33,
   "outputs": [],
   "source": [
    "n_values_search = 128\n",
    "gamma_grid = self.rng.uniform(0.1, 1.0, size=n_values_search)"
   ],
   "metadata": {
    "collapsed": false
   }
  },
  {
   "cell_type": "code",
   "execution_count": 36,
   "outputs": [],
   "source": [
    "import matplotlib.pyplot as plt\n",
    "import numpy as np\n",
    "import scipy.stats\n",
    "import torch\n",
    "\n",
    "from sklearn.gaussian_process import GaussianProcessRegressor\n",
    "from sklearn.gaussian_process.kernels import RBF\n",
    "from sklearn.metrics import roc_auc_score\n",
    "from tqdm import tqdm\n",
    "\n",
    "from Impression import ImpressionOpportunity\n",
    "from Models import BidShadingContextualBandit, BidShadingPolicy, PyTorchWinRateEstimator"
   ],
   "metadata": {
    "collapsed": false
   }
  },
  {
   "cell_type": "code",
   "execution_count": 38,
   "outputs": [],
   "source": [
    "gamma_grid.sort()\n",
    "x = torch.Tensor(np.hstack((np.tile(0.5, (n_values_search, 1)), np.tile(0.6, (n_values_search, 1)), gamma_grid.reshape(-1,1))))"
   ],
   "metadata": {
    "collapsed": false
   }
  },
  {
   "cell_type": "code",
   "execution_count": 40,
   "outputs": [
    {
     "data": {
      "text/plain": "128"
     },
     "execution_count": 40,
     "metadata": {},
     "output_type": "execute_result"
    }
   ],
   "source": [
    "\n",
    "n_values_search"
   ],
   "metadata": {
    "collapsed": false
   }
  },
  {
   "cell_type": "code",
   "execution_count": null,
   "outputs": [],
   "source": [],
   "metadata": {
    "collapsed": false
   }
  }
 ],
 "metadata": {
  "kernelspec": {
   "display_name": "Python 3",
   "language": "python",
   "name": "python3"
  },
  "language_info": {
   "codemirror_mode": {
    "name": "ipython",
    "version": 2
   },
   "file_extension": ".py",
   "mimetype": "text/x-python",
   "name": "python",
   "nbconvert_exporter": "python",
   "pygments_lexer": "ipython2",
   "version": "2.7.6"
  }
 },
 "nbformat": 4,
 "nbformat_minor": 0
}
