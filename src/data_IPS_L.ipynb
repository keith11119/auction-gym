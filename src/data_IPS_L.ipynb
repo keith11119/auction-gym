{
 "cells": [
  {
   "cell_type": "code",
   "execution_count": 1,
   "metadata": {
    "collapsed": true
   },
   "outputs": [],
   "source": [
    "import matplotlib.pyplot as plt\n",
    "import numpy as np\n",
    "from collections import defaultdict\n",
    "from main import parse_config, instantiate_agents, instantiate_auction\n",
    "from tqdm.notebook import tqdm"
   ]
  },
  {
   "cell_type": "code",
   "execution_count": 2,
   "outputs": [],
   "source": [
    "# Parse configuration file\n",
    "rng, config, agent_configs, agents2items, agents2item_values,\\\n",
    "num_runs, max_slots, embedding_size, embedding_var,\\\n",
    "obs_embedding_size = parse_config('../config/FP_IPS_TS.json')"
   ],
   "metadata": {
    "collapsed": false
   }
  },
  {
   "cell_type": "code",
   "execution_count": 3,
   "outputs": [],
   "source": [
    "# Instantiate Agent and Auction objects\n",
    "agents = instantiate_agents(rng, agent_configs, agents2item_values, agents2items)\n",
    "# bid = value * estimated_CTR * gamma\n",
    "# Instantiate Auction object\n",
    "auction, num_iter, rounds_per_iter, output_dir =\\\n",
    "    instantiate_auction(rng,\n",
    "                        config,\n",
    "                        agents2items,\n",
    "                        agents2item_values,\n",
    "                        agents,\n",
    "                        max_slots,\n",
    "                        embedding_size,\n",
    "                        embedding_var,\n",
    "                        obs_embedding_size)"
   ],
   "metadata": {
    "collapsed": false
   }
  },
  {
   "cell_type": "code",
   "execution_count": 4,
   "outputs": [
    {
     "data": {
      "text/plain": "  0%|          | 0/3 [00:00<?, ?it/s]",
      "application/vnd.jupyter.widget-view+json": {
       "version_major": 2,
       "version_minor": 0,
       "model_id": "23163e97279a498bb1736dc7cc89f1fc"
      },
      "application/json": {
       "n": 0,
       "total": 3,
       "elapsed": 0.004853010177612305,
       "ncols": null,
       "nrows": null,
       "prefix": "",
       "ascii": false,
       "unit": "it",
       "unit_scale": false,
       "rate": null,
       "bar_format": null,
       "postfix": null,
       "unit_divisor": 1000,
       "initial": 0,
       "colour": null
      }
     },
     "metadata": {},
     "output_type": "display_data"
    },
    {
     "name": "stdout",
     "output_type": "stream",
     "text": [
      "number of iteration: 0\n",
      "\n",
      "agent: 0\n",
      "\n"
     ]
    },
    {
     "name": "stderr",
     "output_type": "stream",
     "text": [
      "\n",
      "IPS 1:   0%|          | 0/16384 [00:00<?, ?it/s]\u001B[A\n",
      "IPS 1:   2%|▏         | 304/16384 [00:00<00:05, 3036.54it/s]\u001B[A\n",
      "IPS 1:   4%|▍         | 654/16384 [00:00<00:04, 3306.87it/s]\u001B[A\n",
      "IPS 1:   6%|▌         | 1007/16384 [00:00<00:04, 3407.59it/s]\u001B[A\n",
      "IPS 1:   8%|▊         | 1363/16384 [00:00<00:04, 3466.00it/s]\u001B[A\n",
      "IPS 1:  11%|█         | 1721/16384 [00:00<00:04, 3506.67it/s]\u001B[A\n",
      "IPS 1:  13%|█▎        | 2075/16384 [00:00<00:04, 3517.10it/s]\u001B[A\n",
      "IPS 1:  15%|█▍        | 2427/16384 [00:00<00:04, 3478.73it/s]\u001B[A\n",
      "IPS 1:  17%|█▋        | 2775/16384 [00:00<00:03, 3471.92it/s]\u001B[A\n",
      "IPS 1:  19%|█▉        | 3123/16384 [00:00<00:03, 3413.02it/s]\u001B[A\n",
      "IPS 1:  21%|██        | 3478/16384 [00:01<00:03, 3453.05it/s]\u001B[A\n",
      "IPS 1:  23%|██▎       | 3830/16384 [00:01<00:03, 3471.33it/s]\u001B[A\n",
      "IPS 1:  26%|██▌       | 4178/16384 [00:01<00:03, 3468.77it/s]\u001B[A\n",
      "IPS 1:  28%|██▊       | 4530/16384 [00:01<00:03, 3481.89it/s]\u001B[A\n",
      "IPS 1:  30%|██▉       | 4883/16384 [00:01<00:03, 3494.32it/s]\u001B[A\n",
      "IPS 1:  32%|███▏      | 5237/16384 [00:01<00:03, 3507.52it/s]\u001B[A\n",
      "IPS 1:  34%|███▍      | 5588/16384 [00:01<00:03, 3406.60it/s]\u001B[A\n",
      "IPS 1:  36%|███▌      | 5930/16384 [00:01<00:03, 3290.15it/s]\u001B[A\n",
      "IPS 1:  38%|███▊      | 6267/16384 [00:01<00:03, 3312.50it/s]\u001B[A\n",
      "IPS 1:  41%|████▏     | 6772/16384 [00:01<00:02, 3408.74it/s]\u001B[A\n",
      "/Users/keithwu/Documents/GitHub/auction-gym/src/Models.py:44: UserWarning: The use of `x.T` on tensors of dimension other than 2 to reverse their shape is deprecated and it will throw an error in a future release. Consider `x.mT` to transpose batches of matrices or `x.permute(*torch.arange(x.ndim - 1, -1, -1))` to reverse the dimensions of a tensor. (Triggered internally at /Users/runner/work/pytorch/pytorch/pytorch/aten/src/ATen/native/TensorShape.cpp:3281.)\n",
      "  P = (1 + torch.exp(1 - X.matmul(self.m[item, :].T))) ** (-1)\n"
     ]
    },
    {
     "name": "stdout",
     "output_type": "stream",
     "text": [
      "Stopping at Epoch 6772\n"
     ]
    },
    {
     "name": "stderr",
     "output_type": "stream",
     "text": [
      "\n",
      "Initialising Policy:   0%|          | 0/16384 [00:00<?, ?it/s]\u001B[A\n",
      "Initialising Policy:   1%|          | 112/16384 [00:00<00:14, 1114.42it/s]\u001B[A\n",
      "Initialising Policy:   1%|▏         | 230/16384 [00:00<00:14, 1148.87it/s]\u001B[A\n",
      "Initialising Policy:   2%|▏         | 349/16384 [00:00<00:13, 1165.21it/s]\u001B[A\n",
      "Initialising Policy:   3%|▎         | 468/16384 [00:00<00:13, 1172.21it/s]\u001B[A\n",
      "Initialising Policy:   4%|▎         | 587/16384 [00:00<00:13, 1176.30it/s]\u001B[A\n",
      "Initialising Policy:   4%|▍         | 705/16384 [00:00<00:13, 1164.45it/s]\u001B[A\n",
      "Initialising Policy:   5%|▌         | 822/16384 [00:00<00:13, 1156.05it/s]\u001B[A\n",
      "Initialising Policy:   6%|▌         | 938/16384 [00:00<00:13, 1149.33it/s]\u001B[A\n",
      "Initialising Policy:   6%|▋         | 1055/16384 [00:00<00:13, 1154.31it/s]\u001B[A\n",
      "Initialising Policy:   7%|▋         | 1172/16384 [00:01<00:13, 1157.46it/s]\u001B[A\n",
      "Initialising Policy:   8%|▊         | 1289/16384 [00:01<00:13, 1161.06it/s]\u001B[A\n",
      "Initialising Policy:   9%|▊         | 1407/16384 [00:01<00:12, 1164.24it/s]\u001B[A\n",
      "Initialising Policy:   9%|▉         | 1524/16384 [00:01<00:12, 1165.71it/s]\u001B[A\n",
      "Initialising Policy:  10%|█         | 1641/16384 [00:01<00:12, 1163.07it/s]\u001B[A\n",
      "Initialising Policy:  11%|█         | 1758/16384 [00:01<00:12, 1159.10it/s]\u001B[A\n",
      "Initialising Policy:  11%|█▏        | 1874/16384 [00:01<00:12, 1150.84it/s]\u001B[A\n",
      "Initialising Policy:  12%|█▏        | 1990/16384 [00:01<00:12, 1145.54it/s]\u001B[A\n",
      "Initialising Policy:  13%|█▎        | 2106/16384 [00:01<00:12, 1148.81it/s]\u001B[A\n",
      "Initialising Policy:  14%|█▎        | 2224/16384 [00:01<00:12, 1155.70it/s]\u001B[A\n",
      "Initialising Policy:  14%|█▍        | 2343/16384 [00:02<00:12, 1165.38it/s]\u001B[A\n",
      "Initialising Policy:  15%|█▌        | 2460/16384 [00:02<00:11, 1161.64it/s]\u001B[A\n",
      "Initialising Policy:  16%|█▌        | 2578/16384 [00:02<00:11, 1166.69it/s]\u001B[A\n",
      "Initialising Policy:  16%|█▋        | 2697/16384 [00:02<00:11, 1171.88it/s]\u001B[A\n",
      "Initialising Policy:  17%|█▋        | 2818/16384 [00:02<00:11, 1183.13it/s]\u001B[A\n",
      "Initialising Policy:  18%|█▊        | 2938/16384 [00:02<00:11, 1186.23it/s]\u001B[A\n",
      "Initialising Policy:  19%|█▊        | 3058/16384 [00:02<00:11, 1188.46it/s]\u001B[A\n",
      "Initialising Policy:  19%|█▉        | 3177/16384 [00:02<00:11, 1183.98it/s]\u001B[A\n",
      "Initialising Policy:  20%|██        | 3296/16384 [00:02<00:11, 1180.77it/s]\u001B[A\n",
      "Initialising Policy:  21%|██        | 3415/16384 [00:02<00:10, 1182.90it/s]\u001B[A\n",
      "Initialising Policy:  22%|██▏       | 3535/16384 [00:03<00:10, 1186.86it/s]\u001B[A\n",
      "Initialising Policy:  22%|██▏       | 3654/16384 [00:03<00:10, 1184.87it/s]\u001B[A\n",
      "Initialising Policy:  23%|██▎       | 3773/16384 [00:03<00:10, 1182.65it/s]\u001B[A\n",
      "Initialising Policy:  24%|██▍       | 3893/16384 [00:03<00:10, 1186.04it/s]\u001B[A\n",
      "Initialising Policy:  24%|██▍       | 4012/16384 [00:03<00:10, 1182.68it/s]\u001B[A\n",
      "Initialising Policy:  25%|██▌       | 4131/16384 [00:03<00:10, 1175.67it/s]\u001B[A\n",
      "Initialising Policy:  26%|██▌       | 4249/16384 [00:03<00:10, 1165.28it/s]\u001B[A\n",
      "Initialising Policy:  27%|██▋       | 4366/16384 [00:03<00:10, 1161.30it/s]\u001B[A\n",
      "Initialising Policy:  27%|██▋       | 4483/16384 [00:03<00:10, 1159.42it/s]\u001B[A\n",
      "Initialising Policy:  28%|██▊       | 4600/16384 [00:03<00:10, 1161.83it/s]\u001B[A\n",
      "Initialising Policy:  29%|██▉       | 4718/16384 [00:04<00:10, 1166.55it/s]\u001B[A\n",
      "Initialising Policy:  30%|██▉       | 4835/16384 [00:04<00:09, 1163.71it/s]\u001B[A\n",
      "Initialising Policy:  30%|███       | 4952/16384 [00:04<00:09, 1160.54it/s]\u001B[A\n",
      "Initialising Policy:  31%|███       | 5069/16384 [00:04<00:09, 1157.00it/s]\u001B[A\n",
      "Initialising Policy:  32%|███▏      | 5187/16384 [00:04<00:09, 1161.25it/s]\u001B[A\n",
      "Initialising Policy:  32%|███▏      | 5306/16384 [00:04<00:09, 1167.61it/s]\u001B[A\n",
      "Initialising Policy:  33%|███▎      | 5424/16384 [00:04<00:09, 1169.38it/s]\u001B[A\n",
      "Initialising Policy:  34%|███▍      | 5543/16384 [00:04<00:09, 1174.67it/s]\u001B[A\n",
      "Initialising Policy:  35%|███▍      | 5662/16384 [00:04<00:09, 1178.70it/s]\u001B[A\n",
      "Initialising Policy:  35%|███▌      | 5782/16384 [00:04<00:08, 1182.76it/s]\u001B[A\n",
      "Initialising Policy:  36%|███▌      | 5901/16384 [00:05<00:08, 1183.29it/s]\u001B[A\n",
      "Initialising Policy:  37%|███▋      | 6020/16384 [00:05<00:08, 1173.34it/s]\u001B[A\n",
      "Initialising Policy:  37%|███▋      | 6138/16384 [00:05<00:08, 1172.29it/s]\u001B[A\n",
      "Initialising Policy:  38%|███▊      | 6256/16384 [00:05<00:08, 1173.51it/s]\u001B[A\n",
      "Initialising Policy:  39%|███▉      | 6374/16384 [00:05<00:08, 1175.22it/s]\u001B[A\n",
      "Initialising Policy:  40%|███▉      | 6493/16384 [00:05<00:08, 1178.33it/s]\u001B[A\n",
      "Initialising Policy:  40%|████      | 6611/16384 [00:05<00:08, 1176.35it/s]\u001B[A\n",
      "Initialising Policy:  41%|████      | 6729/16384 [00:05<00:08, 1172.86it/s]\u001B[A\n",
      "Initialising Policy:  42%|████▏     | 6847/16384 [00:05<00:08, 1173.23it/s]\u001B[A\n",
      "Initialising Policy:  43%|████▎     | 6967/16384 [00:05<00:07, 1179.34it/s]\u001B[A\n",
      "Initialising Policy:  43%|████▎     | 7087/16384 [00:06<00:07, 1183.23it/s]\u001B[A\n",
      "Initialising Policy:  44%|████▍     | 7207/16384 [00:06<00:07, 1188.17it/s]\u001B[A\n",
      "Initialising Policy:  45%|████▍     | 7326/16384 [00:06<00:07, 1187.24it/s]\u001B[A\n",
      "Initialising Policy:  45%|████▌     | 7446/16384 [00:06<00:07, 1188.69it/s]\u001B[A\n",
      "Initialising Policy:  46%|████▌     | 7566/16384 [00:06<00:07, 1191.93it/s]\u001B[A\n",
      "Initialising Policy:  47%|████▋     | 7686/16384 [00:06<00:07, 1193.03it/s]\u001B[A\n",
      "Initialising Policy:  48%|████▊     | 7806/16384 [00:06<00:07, 1182.62it/s]\u001B[A\n",
      "Initialising Policy:  48%|████▊     | 7925/16384 [00:06<00:07, 1179.78it/s]\u001B[A\n",
      "Initialising Policy:  49%|████▉     | 8044/16384 [00:06<00:07, 1181.06it/s]\u001B[A\n",
      "Initialising Policy:  50%|████▉     | 8164/16384 [00:06<00:06, 1186.13it/s]\u001B[A\n",
      "Initialising Policy:  51%|█████     | 8284/16384 [00:07<00:06, 1190.22it/s]\u001B[A\n",
      "Initialising Policy:  51%|█████▏    | 8404/16384 [00:07<00:06, 1185.42it/s]\u001B[A\n",
      "Initialising Policy:  52%|█████▏    | 8523/16384 [00:07<00:06, 1186.30it/s]\u001B[A\n",
      "Initialising Policy:  53%|█████▎    | 8644/16384 [00:07<00:06, 1190.74it/s]\u001B[A\n",
      "Initialising Policy:  53%|█████▎    | 8764/16384 [00:07<00:06, 1192.04it/s]\u001B[A\n",
      "Initialising Policy:  54%|█████▍    | 8884/16384 [00:07<00:06, 1193.68it/s]\u001B[A\n",
      "Initialising Policy:  55%|█████▍    | 9004/16384 [00:07<00:06, 1191.79it/s]\u001B[A\n",
      "Initialising Policy:  56%|█████▌    | 9124/16384 [00:07<00:06, 1188.05it/s]\u001B[A\n",
      "Initialising Policy:  56%|█████▋    | 9243/16384 [00:07<00:06, 1187.67it/s]\u001B[A\n",
      "Initialising Policy:  57%|█████▋    | 9362/16384 [00:07<00:05, 1186.97it/s]\u001B[A\n",
      "Initialising Policy:  58%|█████▊    | 9481/16384 [00:08<00:05, 1182.50it/s]\u001B[A\n",
      "Initialising Policy:  59%|█████▊    | 9600/16384 [00:08<00:05, 1178.78it/s]\u001B[A\n",
      "Initialising Policy:  59%|█████▉    | 9720/16384 [00:08<00:05, 1182.47it/s]\u001B[A\n",
      "Initialising Policy:  60%|██████    | 9840/16384 [00:08<00:05, 1187.34it/s]\u001B[A\n",
      "Initialising Policy:  61%|██████    | 9959/16384 [00:08<00:05, 1185.67it/s]\u001B[A\n",
      "Initialising Policy:  62%|██████▏   | 10079/16384 [00:08<00:05, 1188.59it/s]\u001B[A\n",
      "Initialising Policy:  62%|██████▏   | 10199/16384 [00:08<00:05, 1191.47it/s]\u001B[A\n",
      "Initialising Policy:  63%|██████▎   | 10319/16384 [00:08<00:05, 1188.55it/s]\u001B[A\n",
      "Initialising Policy:  64%|██████▎   | 10439/16384 [00:08<00:04, 1191.75it/s]\u001B[A\n",
      "Initialising Policy:  64%|██████▍   | 10559/16384 [00:08<00:04, 1194.01it/s]\u001B[A\n",
      "Initialising Policy:  65%|██████▌   | 10679/16384 [00:09<00:04, 1193.46it/s]\u001B[A\n",
      "Initialising Policy:  66%|██████▌   | 10799/16384 [00:09<00:04, 1194.94it/s]\u001B[A\n",
      "Initialising Policy:  67%|██████▋   | 10919/16384 [00:09<00:04, 1192.64it/s]\u001B[A\n",
      "Initialising Policy:  67%|██████▋   | 11039/16384 [00:09<00:04, 1192.70it/s]\u001B[A\n",
      "Initialising Policy:  68%|██████▊   | 11160/16384 [00:09<00:04, 1196.87it/s]\u001B[A\n",
      "Initialising Policy:  69%|██████▉   | 11280/16384 [00:09<00:04, 1195.09it/s]\u001B[A\n",
      "Initialising Policy:  70%|██████▉   | 11400/16384 [00:09<00:04, 1195.08it/s]\u001B[A\n",
      "Initialising Policy:  70%|███████   | 11520/16384 [00:09<00:04, 1191.91it/s]\u001B[A\n",
      "Initialising Policy:  71%|███████   | 11641/16384 [00:09<00:03, 1194.18it/s]\u001B[A\n",
      "Initialising Policy:  72%|███████▏  | 11761/16384 [00:09<00:03, 1193.26it/s]\u001B[A\n",
      "Initialising Policy:  73%|███████▎  | 11881/16384 [00:10<00:03, 1189.96it/s]\u001B[A\n",
      "Initialising Policy:  73%|███████▎  | 12000/16384 [00:10<00:03, 1189.25it/s]\u001B[A\n",
      "Initialising Policy:  74%|███████▍  | 12120/16384 [00:10<00:03, 1190.62it/s]\u001B[A\n",
      "Initialising Policy:  75%|███████▍  | 12240/16384 [00:10<00:03, 1193.39it/s]\u001B[A\n",
      "Initialising Policy:  75%|███████▌  | 12361/16384 [00:10<00:03, 1197.64it/s]\u001B[A\n",
      "Initialising Policy:  76%|███████▌  | 12482/16384 [00:10<00:03, 1199.95it/s]\u001B[A\n",
      "Initialising Policy:  77%|███████▋  | 12602/16384 [00:10<00:03, 1199.22it/s]\u001B[A\n",
      "Initialising Policy:  78%|███████▊  | 12722/16384 [00:10<00:03, 1194.95it/s]\u001B[A\n",
      "Initialising Policy:  78%|███████▊  | 12842/16384 [00:10<00:02, 1195.96it/s]\u001B[A\n",
      "Initialising Policy:  79%|███████▉  | 12962/16384 [00:10<00:02, 1191.95it/s]\u001B[A\n",
      "Initialising Policy:  80%|███████▉  | 13083/16384 [00:11<00:02, 1195.34it/s]\u001B[A\n",
      "Initialising Policy:  81%|████████  | 13203/16384 [00:11<00:02, 1192.61it/s]\u001B[A\n",
      "Initialising Policy:  81%|████████▏ | 13323/16384 [00:11<00:02, 1189.94it/s]\u001B[A\n",
      "Initialising Policy:  82%|████████▏ | 13443/16384 [00:11<00:02, 1190.34it/s]\u001B[A\n",
      "Initialising Policy:  83%|████████▎ | 13563/16384 [00:11<00:02, 1190.92it/s]\u001B[A\n",
      "Initialising Policy:  84%|████████▎ | 13684/16384 [00:11<00:02, 1195.21it/s]\u001B[A\n",
      "Initialising Policy:  84%|████████▍ | 13805/16384 [00:11<00:02, 1199.32it/s]\u001B[A\n",
      "Initialising Policy:  85%|████████▍ | 13926/16384 [00:11<00:02, 1201.07it/s]\u001B[A\n",
      "Initialising Policy:  86%|████████▌ | 14047/16384 [00:11<00:01, 1198.18it/s]\u001B[A\n",
      "Initialising Policy:  86%|████████▋ | 14167/16384 [00:11<00:01, 1196.76it/s]\u001B[A\n",
      "Initialising Policy:  87%|████████▋ | 14287/16384 [00:12<00:01, 1191.64it/s]\u001B[A\n",
      "Initialising Policy:  88%|████████▊ | 14407/16384 [00:12<00:01, 1186.10it/s]\u001B[A\n",
      "Initialising Policy:  89%|████████▊ | 14526/16384 [00:12<00:01, 1185.54it/s]\u001B[A\n",
      "Initialising Policy:  89%|████████▉ | 14647/16384 [00:12<00:01, 1191.82it/s]\u001B[A\n",
      "Initialising Policy:  90%|█████████ | 14767/16384 [00:12<00:01, 1193.57it/s]\u001B[A\n",
      "Initialising Policy:  91%|█████████ | 14887/16384 [00:12<00:01, 1194.57it/s]\u001B[A\n",
      "Initialising Policy:  92%|█████████▏| 15008/16384 [00:12<00:01, 1196.80it/s]\u001B[A\n",
      "Initialising Policy:  92%|█████████▏| 15128/16384 [00:12<00:01, 1195.75it/s]\u001B[A\n",
      "Initialising Policy:  93%|█████████▎| 15249/16384 [00:12<00:00, 1196.93it/s]\u001B[A\n",
      "Initialising Policy:  94%|█████████▍| 15369/16384 [00:13<00:00, 1193.73it/s]\u001B[A\n",
      "Initialising Policy:  95%|█████████▍| 15489/16384 [00:13<00:00, 1189.95it/s]\u001B[A\n",
      "Initialising Policy:  95%|█████████▌| 15609/16384 [00:13<00:00, 1190.34it/s]\u001B[A\n",
      "Initialising Policy:  96%|█████████▌| 15729/16384 [00:13<00:00, 1190.58it/s]\u001B[A\n",
      "Initialising Policy:  97%|█████████▋| 15849/16384 [00:13<00:00, 1190.32it/s]\u001B[A\n",
      "Initialising Policy:  97%|█████████▋| 15970/16384 [00:13<00:00, 1194.13it/s]\u001B[A\n",
      "Initialising Policy:  98%|█████████▊| 16091/16384 [00:13<00:00, 1197.86it/s]\u001B[A\n",
      "Initialising Policy:  99%|█████████▉| 16212/16384 [00:13<00:00, 1199.73it/s]\u001B[A\n",
      "Initialising Policy: 100%|██████████| 16384/16384 [00:13<00:00, 1182.41it/s]\u001B[A\n"
     ]
    },
    {
     "name": "stdout",
     "output_type": "stream",
     "text": [
      "Predicted mu Gammas:  tensor(0.9848, grad_fn=<MinBackward1>) tensor(1.0067, grad_fn=<MaxBackward1>) tensor(1.0001, grad_fn=<MeanBackward0>)\n",
      "Predicted sigma Gammas:  tensor(0.0433, grad_fn=<MinBackward1>) tensor(0.0664, grad_fn=<MaxBackward1>) tensor(0.0506, grad_fn=<MeanBackward0>)\n"
     ]
    },
    {
     "name": "stderr",
     "output_type": "stream",
     "text": [
      "\n",
      "IPS 1:   0%|          | 0/16384 [00:00<?, ?it/s]\u001B[A\n",
      "IPS 1:   1%|          | 97/16384 [00:00<00:16, 967.14it/s]\u001B[A\n",
      "IPS 1:   1%|          | 196/16384 [00:00<00:16, 978.38it/s]\u001B[A\n",
      "IPS 1:   2%|▏         | 294/16384 [00:00<00:16, 978.47it/s]\u001B[A\n",
      "IPS 1:   2%|▏         | 393/16384 [00:00<00:16, 981.16it/s]\u001B[A\n",
      "IPS 1:   3%|▎         | 492/16384 [00:00<00:16, 981.28it/s]\u001B[A\n",
      "IPS 1:   4%|▎         | 591/16384 [00:00<00:16, 983.22it/s]\u001B[A\n",
      "IPS 1:   4%|▍         | 690/16384 [00:00<00:15, 984.67it/s]\u001B[A\n",
      "IPS 1:   5%|▍         | 789/16384 [00:00<00:15, 984.48it/s]\u001B[A\n",
      "IPS 1:   5%|▌         | 888/16384 [00:00<00:15, 984.93it/s]\u001B[A\n",
      "IPS 1:   6%|▌         | 987/16384 [00:01<00:15, 985.86it/s]\u001B[A\n",
      "IPS 1:   7%|▋         | 1086/16384 [00:01<00:15, 986.14it/s]\u001B[A\n",
      "IPS 1:   7%|▋         | 1185/16384 [00:01<00:15, 985.72it/s]\u001B[A\n",
      "IPS 1:   8%|▊         | 1284/16384 [00:01<00:15, 980.01it/s]\u001B[A\n",
      "IPS 1:   8%|▊         | 1384/16384 [00:01<00:15, 983.81it/s]\u001B[A"
     ]
    },
    {
     "name": "stdout",
     "output_type": "stream",
     "text": [
      "Epoch 01211: reducing learning rate of group 0 to 4.0000e-04.\n",
      "Epoch 01312: reducing learning rate of group 0 to 8.0000e-05.\n"
     ]
    },
    {
     "name": "stderr",
     "output_type": "stream",
     "text": [
      "\n",
      "IPS 1:   9%|▉         | 1483/16384 [00:01<00:15, 976.64it/s]\u001B[A\n",
      "IPS 1:  10%|▉         | 1584/16384 [00:01<00:15, 984.22it/s]\u001B[A"
     ]
    },
    {
     "name": "stdout",
     "output_type": "stream",
     "text": [
      "Epoch 01457: reducing learning rate of group 0 to 1.6000e-05.\n",
      "Epoch 01558: reducing learning rate of group 0 to 3.2000e-06.\n"
     ]
    },
    {
     "name": "stderr",
     "output_type": "stream",
     "text": [
      "\n",
      "IPS 1:  10%|█         | 1699/16384 [00:01<00:14, 981.00it/s]\u001B[A\n"
     ]
    },
    {
     "name": "stdout",
     "output_type": "stream",
     "text": [
      "Epoch 01659: reducing learning rate of group 0 to 6.4000e-07.\n",
      "Stopping at Epoch 1699\n",
      "Expected utility: -7.741188e-06\n",
      "IPS 1 Number of samples:  torch.Size([6673, 2])\n",
      "IPS 1 Predicted Gammas:  1.0 1.0 1.0\n",
      "agent: 1\n",
      "\n"
     ]
    },
    {
     "name": "stderr",
     "output_type": "stream",
     "text": [
      "\n",
      "IPS 2:   0%|          | 0/16384 [00:00<?, ?it/s]\u001B[A\n",
      "IPS 2:   2%|▏         | 326/16384 [00:00<00:04, 3253.94it/s]\u001B[A\n",
      "IPS 2:   4%|▍         | 654/16384 [00:00<00:04, 3265.36it/s]\u001B[A\n",
      "IPS 2:   6%|▌         | 991/16384 [00:00<00:04, 3311.08it/s]\u001B[A\n",
      "IPS 2:   8%|▊         | 1330/16384 [00:00<00:04, 3339.49it/s]\u001B[A\n",
      "IPS 2:  10%|█         | 1667/16384 [00:00<00:04, 3347.56it/s]\u001B[A\n",
      "IPS 2:  12%|█▏        | 2002/16384 [00:00<00:04, 3337.99it/s]\u001B[A\n",
      "IPS 2:  14%|█▍        | 2336/16384 [00:00<00:04, 3328.47it/s]\u001B[A\n",
      "IPS 2:  16%|█▋        | 2670/16384 [00:00<00:04, 3331.78it/s]\u001B[A\n",
      "IPS 2:  18%|█▊        | 3004/16384 [00:00<00:04, 3331.19it/s]\u001B[A\n",
      "IPS 2:  20%|██        | 3338/16384 [00:01<00:03, 3318.06it/s]\u001B[A\n",
      "IPS 2:  22%|██▏       | 3670/16384 [00:01<00:03, 3310.55it/s]\u001B[A\n",
      "IPS 2:  26%|██▌       | 4206/16384 [00:01<00:03, 3319.75it/s]\u001B[A\n"
     ]
    },
    {
     "name": "stdout",
     "output_type": "stream",
     "text": [
      "Stopping at Epoch 4206\n"
     ]
    },
    {
     "name": "stderr",
     "output_type": "stream",
     "text": [
      "\n",
      "Initialising Policy:   0%|          | 0/16384 [00:00<?, ?it/s]\u001B[A\n",
      "Initialising Policy:   1%|          | 117/16384 [00:00<00:13, 1169.03it/s]\u001B[A\n",
      "Initialising Policy:   1%|▏         | 238/16384 [00:00<00:13, 1190.59it/s]\u001B[A\n",
      "Initialising Policy:   2%|▏         | 358/16384 [00:00<00:13, 1172.17it/s]\u001B[A\n",
      "Initialising Policy:   3%|▎         | 476/16384 [00:00<00:13, 1160.11it/s]\u001B[A\n",
      "Initialising Policy:   4%|▎         | 595/16384 [00:00<00:13, 1170.51it/s]\u001B[A\n",
      "Initialising Policy:   4%|▍         | 716/16384 [00:00<00:13, 1180.88it/s]\u001B[A\n",
      "Initialising Policy:   5%|▌         | 836/16384 [00:00<00:13, 1183.74it/s]\u001B[A\n",
      "Initialising Policy:   6%|▌         | 955/16384 [00:00<00:13, 1182.73it/s]\u001B[A\n",
      "Initialising Policy:   7%|▋         | 1075/16384 [00:00<00:12, 1186.76it/s]\u001B[A\n",
      "Initialising Policy:   7%|▋         | 1197/16384 [00:01<00:12, 1195.61it/s]\u001B[A\n",
      "Initialising Policy:   8%|▊         | 1318/16384 [00:01<00:12, 1196.93it/s]\u001B[A\n",
      "Initialising Policy:   9%|▉         | 1438/16384 [00:01<00:12, 1192.33it/s]\u001B[A\n",
      "Initialising Policy:  10%|▉         | 1558/16384 [00:01<00:12, 1187.62it/s]\u001B[A\n",
      "Initialising Policy:  10%|█         | 1679/16384 [00:01<00:12, 1193.70it/s]\u001B[A\n",
      "Initialising Policy:  11%|█         | 1800/16384 [00:01<00:12, 1195.99it/s]\u001B[A\n",
      "Initialising Policy:  12%|█▏        | 1920/16384 [00:01<00:12, 1196.82it/s]\u001B[A\n",
      "Initialising Policy:  12%|█▏        | 2040/16384 [00:01<00:11, 1196.20it/s]\u001B[A\n",
      "Initialising Policy:  13%|█▎        | 2160/16384 [00:01<00:11, 1195.62it/s]\u001B[A\n",
      "Initialising Policy:  14%|█▍        | 2280/16384 [00:01<00:11, 1193.48it/s]\u001B[A\n",
      "Initialising Policy:  15%|█▍        | 2400/16384 [00:02<00:11, 1192.13it/s]\u001B[A\n",
      "Initialising Policy:  15%|█▌        | 2520/16384 [00:02<00:11, 1187.73it/s]\u001B[A\n",
      "Initialising Policy:  16%|█▌        | 2641/16384 [00:02<00:11, 1193.88it/s]\u001B[A\n",
      "Initialising Policy:  17%|█▋        | 2761/16384 [00:02<00:11, 1189.26it/s]\u001B[A\n",
      "Initialising Policy:  18%|█▊        | 2880/16384 [00:02<00:11, 1188.03it/s]\u001B[A\n",
      "Initialising Policy:  18%|█▊        | 3000/16384 [00:02<00:11, 1188.92it/s]\u001B[A\n",
      "Initialising Policy:  19%|█▉        | 3121/16384 [00:02<00:11, 1194.76it/s]\u001B[A\n",
      "Initialising Policy:  20%|█▉        | 3242/16384 [00:02<00:10, 1196.26it/s]\u001B[A\n",
      "Initialising Policy:  21%|██        | 3362/16384 [00:02<00:10, 1196.62it/s]\u001B[A\n",
      "Initialising Policy:  21%|██▏       | 3484/16384 [00:02<00:10, 1201.43it/s]\u001B[A\n",
      "Initialising Policy:  22%|██▏       | 3605/16384 [00:03<00:10, 1202.16it/s]\u001B[A\n",
      "Initialising Policy:  23%|██▎       | 3726/16384 [00:03<00:10, 1202.14it/s]\u001B[A\n",
      "Initialising Policy:  23%|██▎       | 3847/16384 [00:03<00:10, 1201.71it/s]\u001B[A\n",
      "Initialising Policy:  24%|██▍       | 3968/16384 [00:03<00:10, 1194.99it/s]\u001B[A\n",
      "Initialising Policy:  25%|██▍       | 4088/16384 [00:03<00:10, 1191.33it/s]\u001B[A\n",
      "Initialising Policy:  26%|██▌       | 4209/16384 [00:03<00:10, 1195.01it/s]\u001B[A\n",
      "Initialising Policy:  26%|██▋       | 4330/16384 [00:03<00:10, 1198.30it/s]\u001B[A\n",
      "Initialising Policy:  27%|██▋       | 4453/16384 [00:03<00:09, 1205.16it/s]\u001B[A\n",
      "Initialising Policy:  28%|██▊       | 4574/16384 [00:03<00:09, 1201.89it/s]\u001B[A\n",
      "Initialising Policy:  29%|██▊       | 4696/16384 [00:03<00:09, 1205.17it/s]\u001B[A\n",
      "Initialising Policy:  29%|██▉       | 4817/16384 [00:04<00:09, 1206.00it/s]\u001B[A\n",
      "Initialising Policy:  30%|███       | 4938/16384 [00:04<00:09, 1206.77it/s]\u001B[A\n",
      "Initialising Policy:  31%|███       | 5059/16384 [00:04<00:09, 1203.03it/s]\u001B[A\n",
      "Initialising Policy:  32%|███▏      | 5180/16384 [00:04<00:09, 1199.80it/s]\u001B[A\n",
      "Initialising Policy:  32%|███▏      | 5301/16384 [00:04<00:09, 1201.41it/s]\u001B[A\n",
      "Initialising Policy:  33%|███▎      | 5422/16384 [00:04<00:09, 1200.61it/s]\u001B[A\n",
      "Initialising Policy:  34%|███▍      | 5543/16384 [00:04<00:09, 1200.57it/s]\u001B[A\n",
      "Initialising Policy:  35%|███▍      | 5664/16384 [00:04<00:08, 1201.84it/s]\u001B[A\n",
      "Initialising Policy:  35%|███▌      | 5785/16384 [00:04<00:08, 1203.22it/s]\u001B[A\n",
      "Initialising Policy:  36%|███▌      | 5907/16384 [00:04<00:08, 1206.39it/s]\u001B[A\n",
      "Initialising Policy:  37%|███▋      | 6028/16384 [00:05<00:08, 1198.00it/s]\u001B[A\n",
      "Initialising Policy:  38%|███▊      | 6148/16384 [00:05<00:08, 1195.83it/s]\u001B[A\n",
      "Initialising Policy:  38%|███▊      | 6269/16384 [00:05<00:08, 1197.61it/s]\u001B[A\n",
      "Initialising Policy:  39%|███▉      | 6390/16384 [00:05<00:08, 1199.71it/s]\u001B[A\n",
      "Initialising Policy:  40%|███▉      | 6510/16384 [00:05<00:08, 1199.25it/s]\u001B[A\n",
      "Initialising Policy:  40%|████      | 6631/16384 [00:05<00:08, 1202.29it/s]\u001B[A\n",
      "Initialising Policy:  41%|████      | 6752/16384 [00:05<00:08, 1203.24it/s]\u001B[A\n",
      "Initialising Policy:  42%|████▏     | 6873/16384 [00:05<00:07, 1199.93it/s]\u001B[A\n",
      "Initialising Policy:  43%|████▎     | 6993/16384 [00:05<00:07, 1197.40it/s]\u001B[A\n",
      "Initialising Policy:  43%|████▎     | 7115/16384 [00:05<00:07, 1201.33it/s]\u001B[A\n",
      "Initialising Policy:  44%|████▍     | 7236/16384 [00:06<00:07, 1201.35it/s]\u001B[A\n",
      "Initialising Policy:  45%|████▍     | 7357/16384 [00:06<00:07, 1202.82it/s]\u001B[A\n",
      "Initialising Policy:  46%|████▌     | 7478/16384 [00:06<00:07, 1202.96it/s]\u001B[A\n",
      "Initialising Policy:  46%|████▋     | 7599/16384 [00:06<00:07, 1200.51it/s]\u001B[A\n",
      "Initialising Policy:  47%|████▋     | 7720/16384 [00:06<00:07, 1200.94it/s]\u001B[A\n",
      "Initialising Policy:  48%|████▊     | 7841/16384 [00:06<00:07, 1196.73it/s]\u001B[A\n",
      "Initialising Policy:  49%|████▊     | 7962/16384 [00:06<00:07, 1197.91it/s]\u001B[A\n",
      "Initialising Policy:  49%|████▉     | 8083/16384 [00:06<00:06, 1200.40it/s]\u001B[A\n",
      "Initialising Policy:  50%|█████     | 8205/16384 [00:06<00:06, 1205.14it/s]\u001B[A\n",
      "Initialising Policy:  51%|█████     | 8326/16384 [00:06<00:06, 1205.90it/s]\u001B[A\n",
      "Initialising Policy:  52%|█████▏    | 8447/16384 [00:07<00:06, 1202.19it/s]\u001B[A\n",
      "Initialising Policy:  52%|█████▏    | 8568/16384 [00:07<00:06, 1200.05it/s]\u001B[A\n",
      "Initialising Policy:  53%|█████▎    | 8689/16384 [00:07<00:06, 1201.08it/s]\u001B[A\n",
      "Initialising Policy:  54%|█████▍    | 8810/16384 [00:07<00:06, 1201.34it/s]\u001B[A\n",
      "Initialising Policy:  55%|█████▍    | 8931/16384 [00:07<00:06, 1200.07it/s]\u001B[A\n",
      "Initialising Policy:  55%|█████▌    | 9052/16384 [00:07<00:06, 1201.49it/s]\u001B[A\n",
      "Initialising Policy:  56%|█████▌    | 9173/16384 [00:07<00:06, 1200.32it/s]\u001B[A\n",
      "Initialising Policy:  57%|█████▋    | 9294/16384 [00:07<00:05, 1199.06it/s]\u001B[A\n",
      "Initialising Policy:  57%|█████▋    | 9414/16384 [00:07<00:05, 1194.21it/s]\u001B[A\n",
      "Initialising Policy:  58%|█████▊    | 9534/16384 [00:07<00:05, 1195.12it/s]\u001B[A\n",
      "Initialising Policy:  59%|█████▉    | 9656/16384 [00:08<00:05, 1199.64it/s]\u001B[A\n",
      "Initialising Policy:  60%|█████▉    | 9777/16384 [00:08<00:05, 1199.79it/s]\u001B[A\n",
      "Initialising Policy:  60%|██████    | 9899/16384 [00:08<00:05, 1204.29it/s]\u001B[A\n",
      "Initialising Policy:  61%|██████    | 10020/16384 [00:08<00:05, 1204.21it/s]\u001B[A\n",
      "Initialising Policy:  62%|██████▏   | 10142/16384 [00:08<00:05, 1206.83it/s]\u001B[A\n",
      "Initialising Policy:  63%|██████▎   | 10263/16384 [00:08<00:05, 1206.60it/s]\u001B[A\n",
      "Initialising Policy:  63%|██████▎   | 10384/16384 [00:08<00:04, 1203.92it/s]\u001B[A\n",
      "Initialising Policy:  64%|██████▍   | 10506/16384 [00:08<00:04, 1206.93it/s]\u001B[A\n",
      "Initialising Policy:  65%|██████▍   | 10627/16384 [00:08<00:04, 1204.29it/s]\u001B[A\n",
      "Initialising Policy:  66%|██████▌   | 10749/16384 [00:08<00:04, 1206.47it/s]\u001B[A\n",
      "Initialising Policy:  66%|██████▋   | 10870/16384 [00:09<00:04, 1206.99it/s]\u001B[A\n",
      "Initialising Policy:  67%|██████▋   | 10991/16384 [00:09<00:04, 1205.10it/s]\u001B[A\n",
      "Initialising Policy:  68%|██████▊   | 11112/16384 [00:09<00:04, 1206.14it/s]\u001B[A\n",
      "Initialising Policy:  69%|██████▊   | 11233/16384 [00:09<00:04, 1203.92it/s]\u001B[A\n",
      "Initialising Policy:  69%|██████▉   | 11354/16384 [00:09<00:04, 1201.64it/s]\u001B[A\n",
      "Initialising Policy:  70%|███████   | 11475/16384 [00:09<00:04, 1201.20it/s]\u001B[A\n",
      "Initialising Policy:  71%|███████   | 11596/16384 [00:09<00:03, 1201.04it/s]\u001B[A\n",
      "Initialising Policy:  72%|███████▏  | 11717/16384 [00:09<00:03, 1199.31it/s]\u001B[A\n",
      "Initialising Policy:  72%|███████▏  | 11837/16384 [00:09<00:03, 1196.38it/s]\u001B[A\n",
      "Initialising Policy:  73%|███████▎  | 11959/16384 [00:09<00:03, 1202.26it/s]\u001B[A\n",
      "Initialising Policy:  74%|███████▎  | 12080/16384 [00:10<00:03, 1202.03it/s]\u001B[A\n",
      "Initialising Policy:  74%|███████▍  | 12202/16384 [00:10<00:03, 1206.24it/s]\u001B[A\n",
      "Initialising Policy:  75%|███████▌  | 12323/16384 [00:10<00:03, 1204.52it/s]\u001B[A\n",
      "Initialising Policy:  76%|███████▌  | 12444/16384 [00:10<00:03, 1203.22it/s]\u001B[A\n",
      "Initialising Policy:  77%|███████▋  | 12565/16384 [00:10<00:03, 1202.64it/s]\u001B[A\n",
      "Initialising Policy:  77%|███████▋  | 12687/16384 [00:10<00:03, 1205.15it/s]\u001B[A\n",
      "Initialising Policy:  78%|███████▊  | 12808/16384 [00:10<00:02, 1202.17it/s]\u001B[A\n",
      "Initialising Policy:  79%|███████▉  | 12929/16384 [00:10<00:02, 1194.85it/s]\u001B[A\n",
      "Initialising Policy:  80%|███████▉  | 13049/16384 [00:10<00:02, 1188.81it/s]\u001B[A\n",
      "Initialising Policy:  80%|████████  | 13169/16384 [00:10<00:02, 1189.81it/s]\u001B[A\n",
      "Initialising Policy:  81%|████████  | 13288/16384 [00:11<00:02, 1185.85it/s]\u001B[A\n",
      "Initialising Policy:  82%|████████▏ | 13407/16384 [00:11<00:02, 1178.86it/s]\u001B[A\n",
      "Initialising Policy:  83%|████████▎ | 13525/16384 [00:11<00:02, 1177.66it/s]\u001B[A\n",
      "Initialising Policy:  83%|████████▎ | 13643/16384 [00:11<00:02, 1176.81it/s]\u001B[A\n",
      "Initialising Policy:  84%|████████▍ | 13763/16384 [00:11<00:02, 1182.22it/s]\u001B[A\n",
      "Initialising Policy:  85%|████████▍ | 13883/16384 [00:11<00:02, 1185.96it/s]\u001B[A\n",
      "Initialising Policy:  85%|████████▌ | 14005/16384 [00:11<00:01, 1193.91it/s]\u001B[A\n",
      "Initialising Policy:  86%|████████▌ | 14125/16384 [00:11<00:01, 1191.62it/s]\u001B[A\n",
      "Initialising Policy:  87%|████████▋ | 14245/16384 [00:11<00:01, 1192.01it/s]\u001B[A\n",
      "Initialising Policy:  88%|████████▊ | 14365/16384 [00:12<00:01, 1190.24it/s]\u001B[A\n",
      "Initialising Policy:  88%|████████▊ | 14486/16384 [00:12<00:01, 1194.18it/s]\u001B[A\n",
      "Initialising Policy:  89%|████████▉ | 14606/16384 [00:12<00:01, 1191.70it/s]\u001B[A\n",
      "Initialising Policy:  90%|████████▉ | 14726/16384 [00:12<00:01, 1191.76it/s]\u001B[A\n",
      "Initialising Policy:  91%|█████████ | 14846/16384 [00:12<00:01, 1190.81it/s]\u001B[A\n",
      "Initialising Policy:  91%|█████████▏| 14966/16384 [00:12<00:01, 1192.49it/s]\u001B[A\n",
      "Initialising Policy:  92%|█████████▏| 15086/16384 [00:12<00:01, 1194.24it/s]\u001B[A\n",
      "Initialising Policy:  93%|█████████▎| 15208/16384 [00:12<00:00, 1199.54it/s]\u001B[A\n",
      "Initialising Policy:  94%|█████████▎| 15328/16384 [00:12<00:00, 1199.41it/s]\u001B[A\n",
      "Initialising Policy:  94%|█████████▍| 15448/16384 [00:12<00:00, 1198.71it/s]\u001B[A\n",
      "Initialising Policy:  95%|█████████▌| 15570/16384 [00:13<00:00, 1204.23it/s]\u001B[A\n",
      "Initialising Policy:  96%|█████████▌| 15691/16384 [00:13<00:00, 1203.90it/s]\u001B[A\n",
      "Initialising Policy:  97%|█████████▋| 15813/16384 [00:13<00:00, 1206.66it/s]\u001B[A\n",
      "Initialising Policy:  97%|█████████▋| 15934/16384 [00:13<00:00, 1205.45it/s]\u001B[A\n",
      "Initialising Policy:  98%|█████████▊| 16055/16384 [00:13<00:00, 1199.27it/s]\u001B[A\n",
      "Initialising Policy:  99%|█████████▊| 16175/16384 [00:13<00:00, 1199.15it/s]\u001B[A\n",
      "Initialising Policy: 100%|██████████| 16384/16384 [00:13<00:00, 1197.35it/s]\u001B[A\n"
     ]
    },
    {
     "name": "stdout",
     "output_type": "stream",
     "text": [
      "Predicted mu Gammas:  tensor(0.9601, grad_fn=<MinBackward1>) tensor(1.0146, grad_fn=<MaxBackward1>) tensor(0.9996, grad_fn=<MeanBackward0>)\n",
      "Predicted sigma Gammas:  tensor(0.0489, grad_fn=<MinBackward1>) tensor(0.0632, grad_fn=<MaxBackward1>) tensor(0.0526, grad_fn=<MeanBackward0>)\n"
     ]
    },
    {
     "name": "stderr",
     "output_type": "stream",
     "text": [
      "\n",
      "IPS 2:   0%|          | 0/16384 [00:00<?, ?it/s]\u001B[A\n",
      "IPS 2:   1%|          | 98/16384 [00:00<00:16, 974.25it/s]\u001B[A\n",
      "IPS 2:   1%|          | 197/16384 [00:00<00:16, 982.81it/s]\u001B[A\n",
      "IPS 2:   2%|▏         | 296/16384 [00:00<00:16, 977.48it/s]\u001B[A\n",
      "IPS 2:   2%|▏         | 394/16384 [00:00<00:16, 975.35it/s]\u001B[A\n",
      "IPS 2:   3%|▎         | 492/16384 [00:00<00:16, 975.89it/s]\u001B[A\n",
      "IPS 2:   4%|▎         | 593/16384 [00:00<00:16, 986.27it/s]\u001B[A\n",
      "IPS 2:   4%|▍         | 692/16384 [00:00<00:15, 983.71it/s]\u001B[A\n",
      "IPS 2:   5%|▍         | 792/16384 [00:00<00:15, 985.52it/s]\u001B[A\n",
      "IPS 2:   5%|▌         | 891/16384 [00:00<00:15, 985.74it/s]\u001B[A\n",
      "IPS 2:   6%|▌         | 990/16384 [00:01<00:15, 982.16it/s]\u001B[A\n",
      "IPS 2:   7%|▋         | 1089/16384 [00:01<00:15, 980.13it/s]\u001B[A\n",
      "IPS 2:   7%|▋         | 1188/16384 [00:01<00:15, 976.60it/s]\u001B[A\n",
      "IPS 2:   8%|▊         | 1286/16384 [00:01<00:15, 972.68it/s]\u001B[A"
     ]
    },
    {
     "name": "stdout",
     "output_type": "stream",
     "text": [
      "Epoch 01107: reducing learning rate of group 0 to 4.0000e-04.\n",
      "Epoch 01298: reducing learning rate of group 0 to 8.0000e-05.\n"
     ]
    },
    {
     "name": "stderr",
     "output_type": "stream",
     "text": [
      "\n",
      "IPS 2:   8%|▊         | 1385/16384 [00:01<00:15, 974.98it/s]\u001B[A\n",
      "IPS 2:   9%|▉         | 1483/16384 [00:01<00:15, 976.12it/s]\u001B[A\n",
      "IPS 2:  10%|▉         | 1582/16384 [00:01<00:15, 979.16it/s]\u001B[A"
     ]
    },
    {
     "name": "stdout",
     "output_type": "stream",
     "text": [
      "Epoch 01399: reducing learning rate of group 0 to 1.6000e-05.\n",
      "Epoch 01500: reducing learning rate of group 0 to 3.2000e-06.\n"
     ]
    },
    {
     "name": "stderr",
     "output_type": "stream",
     "text": [
      "IPS 2:  10%|▉         | 1602/16384 [00:01<00:15, 977.67it/s]\n"
     ]
    },
    {
     "name": "stdout",
     "output_type": "stream",
     "text": [
      "Epoch 01601: reducing learning rate of group 0 to 6.4000e-07.\n",
      "Stopping at Epoch 1602\n",
      "Expected utility: -7.359894e-06\n",
      "IPS 2 Number of samples:  torch.Size([6689, 2])\n",
      "IPS 2 Predicted Gammas:  1.0 1.0 1.0\n",
      "agent: 2\n",
      "\n"
     ]
    },
    {
     "name": "stderr",
     "output_type": "stream",
     "text": [
      "\n",
      "IPS 3:   0%|          | 0/16384 [00:00<?, ?it/s]\u001B[A\n",
      "IPS 3:   2%|▏         | 294/16384 [00:00<00:05, 2930.42it/s]\u001B[A\n",
      "IPS 3:   4%|▎         | 588/16384 [00:00<00:05, 2922.81it/s]\u001B[A\n",
      "IPS 3:   5%|▌         | 886/16384 [00:00<00:05, 2946.25it/s]\u001B[A\n",
      "IPS 3:   7%|▋         | 1188/16384 [00:00<00:05, 2974.28it/s]\u001B[A\n",
      "IPS 3:   9%|▉         | 1487/16384 [00:00<00:05, 2976.48it/s]\u001B[A\n",
      "IPS 3:  11%|█         | 1789/16384 [00:00<00:04, 2990.11it/s]\u001B[A\n",
      "IPS 3:  13%|█▎        | 2090/16384 [00:00<00:04, 2993.58it/s]\u001B[A\n",
      "IPS 3:  15%|█▍        | 2390/16384 [00:00<00:04, 2980.00it/s]\u001B[A\n",
      "IPS 3:  16%|█▋        | 2689/16384 [00:00<00:04, 2981.21it/s]\u001B[A\n",
      "IPS 3:  18%|█▊        | 2988/16384 [00:01<00:04, 2943.90it/s]\u001B[A\n",
      "IPS 3:  20%|██        | 3289/16384 [00:01<00:04, 2962.78it/s]\u001B[A\n",
      "IPS 3:  22%|██▏       | 3588/16384 [00:01<00:04, 2969.17it/s]\u001B[A\n",
      "IPS 3:  24%|██▎       | 3887/16384 [00:01<00:04, 2973.33it/s]\u001B[A\n",
      "IPS 3:  26%|██▌       | 4186/16384 [00:01<00:04, 2977.39it/s]\u001B[A\n",
      "IPS 3:  27%|██▋       | 4489/16384 [00:01<00:03, 2992.96it/s]\u001B[A\n",
      "IPS 3:  29%|██▉       | 4792/16384 [00:01<00:03, 3004.05it/s]\u001B[A\n",
      "IPS 3:  32%|███▏      | 5239/16384 [00:01<00:03, 2974.08it/s]\u001B[A\n"
     ]
    },
    {
     "name": "stdout",
     "output_type": "stream",
     "text": [
      "Stopping at Epoch 5239\n"
     ]
    },
    {
     "name": "stderr",
     "output_type": "stream",
     "text": [
      "\n",
      "Initialising Policy:   0%|          | 0/16384 [00:00<?, ?it/s]\u001B[A\n",
      "Initialising Policy:   1%|          | 120/16384 [00:00<00:13, 1198.69it/s]\u001B[A\n",
      "Initialising Policy:   1%|▏         | 241/16384 [00:00<00:13, 1199.89it/s]\u001B[A\n",
      "Initialising Policy:   2%|▏         | 361/16384 [00:00<00:13, 1195.04it/s]\u001B[A\n",
      "Initialising Policy:   3%|▎         | 482/16384 [00:00<00:13, 1198.51it/s]\u001B[A\n",
      "Initialising Policy:   4%|▎         | 602/16384 [00:00<00:13, 1196.24it/s]\u001B[A\n",
      "Initialising Policy:   4%|▍         | 724/16384 [00:00<00:13, 1202.26it/s]\u001B[A\n",
      "Initialising Policy:   5%|▌         | 845/16384 [00:00<00:12, 1203.87it/s]\u001B[A\n",
      "Initialising Policy:   6%|▌         | 966/16384 [00:00<00:12, 1203.36it/s]\u001B[A\n",
      "Initialising Policy:   7%|▋         | 1087/16384 [00:00<00:12, 1204.20it/s]\u001B[A\n",
      "Initialising Policy:   7%|▋         | 1208/16384 [00:01<00:12, 1203.27it/s]\u001B[A\n",
      "Initialising Policy:   8%|▊         | 1330/16384 [00:01<00:12, 1205.40it/s]\u001B[A\n",
      "Initialising Policy:   9%|▉         | 1451/16384 [00:01<00:12, 1206.05it/s]\u001B[A\n",
      "Initialising Policy:  10%|▉         | 1572/16384 [00:01<00:12, 1196.62it/s]\u001B[A\n",
      "Initialising Policy:  10%|█         | 1692/16384 [00:01<00:12, 1195.25it/s]\u001B[A\n",
      "Initialising Policy:  11%|█         | 1813/16384 [00:01<00:12, 1199.61it/s]\u001B[A\n",
      "Initialising Policy:  12%|█▏        | 1935/16384 [00:01<00:11, 1204.62it/s]\u001B[A\n",
      "Initialising Policy:  13%|█▎        | 2056/16384 [00:01<00:11, 1200.90it/s]\u001B[A\n",
      "Initialising Policy:  13%|█▎        | 2177/16384 [00:01<00:11, 1194.40it/s]\u001B[A\n",
      "Initialising Policy:  14%|█▍        | 2298/16384 [00:01<00:11, 1196.56it/s]\u001B[A\n",
      "Initialising Policy:  15%|█▍        | 2419/16384 [00:02<00:11, 1200.43it/s]\u001B[A\n",
      "Initialising Policy:  16%|█▌        | 2540/16384 [00:02<00:11, 1199.00it/s]\u001B[A\n",
      "Initialising Policy:  16%|█▌        | 2660/16384 [00:02<00:11, 1198.98it/s]\u001B[A\n",
      "Initialising Policy:  17%|█▋        | 2780/16384 [00:02<00:11, 1194.34it/s]\u001B[A\n",
      "Initialising Policy:  18%|█▊        | 2900/16384 [00:02<00:11, 1194.63it/s]\u001B[A\n",
      "Initialising Policy:  18%|█▊        | 3020/16384 [00:02<00:11, 1195.06it/s]\u001B[A\n",
      "Initialising Policy:  19%|█▉        | 3141/16384 [00:02<00:11, 1198.31it/s]\u001B[A\n",
      "Initialising Policy:  20%|█▉        | 3263/16384 [00:02<00:10, 1202.73it/s]\u001B[A\n",
      "Initialising Policy:  21%|██        | 3384/16384 [00:02<00:10, 1201.21it/s]\u001B[A\n",
      "Initialising Policy:  21%|██▏       | 3505/16384 [00:02<00:10, 1202.96it/s]\u001B[A\n",
      "Initialising Policy:  22%|██▏       | 3627/16384 [00:03<00:10, 1205.82it/s]\u001B[A\n",
      "Initialising Policy:  23%|██▎       | 3748/16384 [00:03<00:10, 1202.37it/s]\u001B[A\n",
      "Initialising Policy:  24%|██▎       | 3869/16384 [00:03<00:10, 1202.42it/s]\u001B[A\n",
      "Initialising Policy:  24%|██▍       | 3990/16384 [00:03<00:10, 1198.99it/s]\u001B[A\n",
      "Initialising Policy:  25%|██▌       | 4110/16384 [00:03<00:10, 1197.90it/s]\u001B[A\n",
      "Initialising Policy:  26%|██▌       | 4230/16384 [00:03<00:10, 1197.23it/s]\u001B[A\n",
      "Initialising Policy:  27%|██▋       | 4350/16384 [00:03<00:10, 1197.77it/s]\u001B[A\n",
      "Initialising Policy:  27%|██▋       | 4471/16384 [00:03<00:09, 1201.21it/s]\u001B[A\n",
      "Initialising Policy:  28%|██▊       | 4592/16384 [00:03<00:09, 1194.12it/s]\u001B[A\n",
      "Initialising Policy:  29%|██▉       | 4713/16384 [00:03<00:09, 1196.84it/s]\u001B[A\n",
      "Initialising Policy:  30%|██▉       | 4835/16384 [00:04<00:09, 1202.68it/s]\u001B[A\n",
      "Initialising Policy:  30%|███       | 4956/16384 [00:04<00:09, 1203.77it/s]\u001B[A\n",
      "Initialising Policy:  31%|███       | 5077/16384 [00:04<00:09, 1201.70it/s]\u001B[A\n",
      "Initialising Policy:  32%|███▏      | 5198/16384 [00:04<00:09, 1201.52it/s]\u001B[A\n",
      "Initialising Policy:  32%|███▏      | 5319/16384 [00:04<00:09, 1201.87it/s]\u001B[A\n",
      "Initialising Policy:  33%|███▎      | 5440/16384 [00:04<00:09, 1201.96it/s]\u001B[A\n",
      "Initialising Policy:  34%|███▍      | 5561/16384 [00:04<00:08, 1204.28it/s]\u001B[A\n",
      "Initialising Policy:  35%|███▍      | 5683/16384 [00:04<00:08, 1206.60it/s]\u001B[A\n",
      "Initialising Policy:  35%|███▌      | 5804/16384 [00:04<00:08, 1205.37it/s]\u001B[A\n",
      "Initialising Policy:  36%|███▌      | 5925/16384 [00:04<00:08, 1205.48it/s]\u001B[A\n",
      "Initialising Policy:  37%|███▋      | 6047/16384 [00:05<00:08, 1208.92it/s]\u001B[A\n",
      "Initialising Policy:  38%|███▊      | 6168/16384 [00:05<00:08, 1208.78it/s]\u001B[A\n",
      "Initialising Policy:  38%|███▊      | 6289/16384 [00:05<00:08, 1207.00it/s]\u001B[A\n",
      "Initialising Policy:  39%|███▉      | 6410/16384 [00:05<00:08, 1207.41it/s]\u001B[A\n",
      "Initialising Policy:  40%|███▉      | 6531/16384 [00:05<00:08, 1204.57it/s]\u001B[A\n",
      "Initialising Policy:  41%|████      | 6653/16384 [00:05<00:08, 1207.54it/s]\u001B[A\n",
      "Initialising Policy:  41%|████▏     | 6774/16384 [00:05<00:07, 1208.21it/s]\u001B[A\n",
      "Initialising Policy:  42%|████▏     | 6895/16384 [00:05<00:07, 1206.08it/s]\u001B[A\n",
      "Initialising Policy:  43%|████▎     | 7016/16384 [00:05<00:07, 1202.33it/s]\u001B[A\n",
      "Initialising Policy:  44%|████▎     | 7137/16384 [00:05<00:07, 1202.45it/s]\u001B[A\n",
      "Initialising Policy:  44%|████▍     | 7258/16384 [00:06<00:07, 1201.28it/s]\u001B[A\n",
      "Initialising Policy:  45%|████▌     | 7379/16384 [00:06<00:07, 1202.75it/s]\u001B[A\n",
      "Initialising Policy:  46%|████▌     | 7500/16384 [00:06<00:07, 1203.59it/s]\u001B[A\n",
      "Initialising Policy:  47%|████▋     | 7622/16384 [00:06<00:07, 1205.89it/s]\u001B[A\n",
      "Initialising Policy:  47%|████▋     | 7743/16384 [00:06<00:07, 1205.19it/s]\u001B[A\n",
      "Initialising Policy:  48%|████▊     | 7864/16384 [00:06<00:07, 1202.07it/s]\u001B[A\n",
      "Initialising Policy:  49%|████▊     | 7985/16384 [00:06<00:06, 1201.29it/s]\u001B[A\n",
      "Initialising Policy:  49%|████▉     | 8106/16384 [00:06<00:06, 1200.46it/s]\u001B[A\n",
      "Initialising Policy:  50%|█████     | 8227/16384 [00:06<00:06, 1201.85it/s]\u001B[A\n",
      "Initialising Policy:  51%|█████     | 8348/16384 [00:06<00:06, 1201.59it/s]\u001B[A\n",
      "Initialising Policy:  52%|█████▏    | 8469/16384 [00:07<00:06, 1201.68it/s]\u001B[A\n",
      "Initialising Policy:  52%|█████▏    | 8590/16384 [00:07<00:06, 1202.16it/s]\u001B[A\n",
      "Initialising Policy:  53%|█████▎    | 8711/16384 [00:07<00:06, 1200.23it/s]\u001B[A\n",
      "Initialising Policy:  54%|█████▍    | 8832/16384 [00:07<00:06, 1195.91it/s]\u001B[A\n",
      "Initialising Policy:  55%|█████▍    | 8954/16384 [00:07<00:06, 1200.15it/s]\u001B[A\n",
      "Initialising Policy:  55%|█████▌    | 9076/16384 [00:07<00:06, 1203.96it/s]\u001B[A\n",
      "Initialising Policy:  56%|█████▌    | 9197/16384 [00:07<00:05, 1201.82it/s]\u001B[A\n",
      "Initialising Policy:  57%|█████▋    | 9318/16384 [00:07<00:05, 1199.67it/s]\u001B[A\n",
      "Initialising Policy:  58%|█████▊    | 9438/16384 [00:07<00:05, 1196.70it/s]\u001B[A\n",
      "Initialising Policy:  58%|█████▊    | 9560/16384 [00:07<00:05, 1203.40it/s]\u001B[A\n",
      "Initialising Policy:  59%|█████▉    | 9681/16384 [00:08<00:05, 1204.20it/s]\u001B[A\n",
      "Initialising Policy:  60%|█████▉    | 9803/16384 [00:08<00:05, 1208.38it/s]\u001B[A\n",
      "Initialising Policy:  61%|██████    | 9924/16384 [00:08<00:05, 1206.67it/s]\u001B[A\n",
      "Initialising Policy:  61%|██████▏   | 10045/16384 [00:08<00:05, 1207.46it/s]\u001B[A\n",
      "Initialising Policy:  62%|██████▏   | 10166/16384 [00:08<00:05, 1204.36it/s]\u001B[A\n",
      "Initialising Policy:  63%|██████▎   | 10288/16384 [00:08<00:05, 1207.78it/s]\u001B[A\n",
      "Initialising Policy:  64%|██████▎   | 10409/16384 [00:08<00:04, 1207.10it/s]\u001B[A\n",
      "Initialising Policy:  64%|██████▍   | 10530/16384 [00:08<00:04, 1203.39it/s]\u001B[A\n",
      "Initialising Policy:  65%|██████▌   | 10652/16384 [00:08<00:04, 1205.56it/s]\u001B[A\n",
      "Initialising Policy:  66%|██████▌   | 10773/16384 [00:08<00:04, 1204.51it/s]\u001B[A\n",
      "Initialising Policy:  66%|██████▋   | 10894/16384 [00:09<00:04, 1205.24it/s]\u001B[A\n",
      "Initialising Policy:  67%|██████▋   | 11015/16384 [00:09<00:04, 1202.50it/s]\u001B[A\n",
      "Initialising Policy:  68%|██████▊   | 11136/16384 [00:09<00:04, 1200.36it/s]\u001B[A\n",
      "Initialising Policy:  69%|██████▊   | 11258/16384 [00:09<00:04, 1205.10it/s]\u001B[A\n",
      "Initialising Policy:  69%|██████▉   | 11379/16384 [00:09<00:04, 1202.08it/s]\u001B[A\n",
      "Initialising Policy:  70%|███████   | 11501/16384 [00:09<00:04, 1205.44it/s]\u001B[A\n",
      "Initialising Policy:  71%|███████   | 11623/16384 [00:09<00:03, 1208.87it/s]\u001B[A\n",
      "Initialising Policy:  72%|███████▏  | 11744/16384 [00:09<00:03, 1207.92it/s]\u001B[A\n",
      "Initialising Policy:  72%|███████▏  | 11865/16384 [00:09<00:03, 1207.72it/s]\u001B[A\n",
      "Initialising Policy:  73%|███████▎  | 11987/16384 [00:09<00:03, 1209.98it/s]\u001B[A\n",
      "Initialising Policy:  74%|███████▍  | 12110/16384 [00:10<00:03, 1213.48it/s]\u001B[A\n",
      "Initialising Policy:  75%|███████▍  | 12232/16384 [00:10<00:03, 1211.73it/s]\u001B[A\n",
      "Initialising Policy:  75%|███████▌  | 12354/16384 [00:10<00:03, 1203.56it/s]\u001B[A\n",
      "Initialising Policy:  76%|███████▌  | 12475/16384 [00:10<00:03, 1203.59it/s]\u001B[A\n",
      "Initialising Policy:  77%|███████▋  | 12596/16384 [00:10<00:03, 1200.56it/s]\u001B[A\n",
      "Initialising Policy:  78%|███████▊  | 12717/16384 [00:10<00:03, 1202.85it/s]\u001B[A\n",
      "Initialising Policy:  78%|███████▊  | 12838/16384 [00:10<00:02, 1202.92it/s]\u001B[A\n",
      "Initialising Policy:  79%|███████▉  | 12959/16384 [00:10<00:02, 1204.28it/s]\u001B[A\n",
      "Initialising Policy:  80%|███████▉  | 13081/16384 [00:10<00:02, 1208.47it/s]\u001B[A\n",
      "Initialising Policy:  81%|████████  | 13202/16384 [00:10<00:02, 1201.07it/s]\u001B[A\n",
      "Initialising Policy:  81%|████████▏ | 13324/16384 [00:11<00:02, 1204.98it/s]\u001B[A\n",
      "Initialising Policy:  82%|████████▏ | 13445/16384 [00:11<00:02, 1200.27it/s]\u001B[A\n",
      "Initialising Policy:  83%|████████▎ | 13566/16384 [00:11<00:02, 1194.89it/s]\u001B[A\n",
      "Initialising Policy:  84%|████████▎ | 13687/16384 [00:11<00:02, 1196.88it/s]\u001B[A\n",
      "Initialising Policy:  84%|████████▍ | 13808/16384 [00:11<00:02, 1199.58it/s]\u001B[A\n",
      "Initialising Policy:  85%|████████▌ | 13928/16384 [00:11<00:02, 1199.28it/s]\u001B[A\n",
      "Initialising Policy:  86%|████████▌ | 14050/16384 [00:11<00:01, 1205.27it/s]\u001B[A\n",
      "Initialising Policy:  86%|████████▋ | 14171/16384 [00:11<00:01, 1197.97it/s]\u001B[A\n",
      "Initialising Policy:  87%|████████▋ | 14292/16384 [00:11<00:01, 1200.74it/s]\u001B[A\n",
      "Initialising Policy:  88%|████████▊ | 14413/16384 [00:11<00:01, 1201.09it/s]\u001B[A\n",
      "Initialising Policy:  89%|████████▊ | 14534/16384 [00:12<00:01, 1200.78it/s]\u001B[A\n",
      "Initialising Policy:  89%|████████▉ | 14656/16384 [00:12<00:01, 1203.18it/s]\u001B[A\n",
      "Initialising Policy:  90%|█████████ | 14777/16384 [00:12<00:01, 1195.76it/s]\u001B[A\n",
      "Initialising Policy:  91%|█████████ | 14898/16384 [00:12<00:01, 1199.24it/s]\u001B[A\n",
      "Initialising Policy:  92%|█████████▏| 15020/16384 [00:12<00:01, 1202.62it/s]\u001B[A\n",
      "Initialising Policy:  92%|█████████▏| 15141/16384 [00:12<00:01, 1197.28it/s]\u001B[A\n",
      "Initialising Policy:  93%|█████████▎| 15261/16384 [00:12<00:00, 1196.38it/s]\u001B[A\n",
      "Initialising Policy:  94%|█████████▍| 15381/16384 [00:12<00:00, 1196.04it/s]\u001B[A\n",
      "Initialising Policy:  95%|█████████▍| 15502/16384 [00:12<00:00, 1197.90it/s]\u001B[A\n",
      "Initialising Policy:  95%|█████████▌| 15623/16384 [00:12<00:00, 1198.66it/s]\u001B[A\n",
      "Initialising Policy:  96%|█████████▌| 15744/16384 [00:13<00:00, 1199.02it/s]\u001B[A\n",
      "Initialising Policy:  97%|█████████▋| 15864/16384 [00:13<00:00, 1195.63it/s]\u001B[A\n",
      "Initialising Policy:  98%|█████████▊| 15984/16384 [00:13<00:00, 1194.92it/s]\u001B[A\n",
      "Initialising Policy:  98%|█████████▊| 16104/16384 [00:13<00:00, 1193.67it/s]\u001B[A\n",
      "Initialising Policy:  99%|█████████▉| 16224/16384 [00:13<00:00, 1193.08it/s]\u001B[A\n",
      "Initialising Policy: 100%|██████████| 16384/16384 [00:13<00:00, 1201.60it/s]\u001B[A\n"
     ]
    },
    {
     "name": "stdout",
     "output_type": "stream",
     "text": [
      "Predicted mu Gammas:  tensor(0.9904, grad_fn=<MinBackward1>) tensor(1.0080, grad_fn=<MaxBackward1>) tensor(0.9994, grad_fn=<MeanBackward0>)\n",
      "Predicted sigma Gammas:  tensor(0.0369, grad_fn=<MinBackward1>) tensor(0.1017, grad_fn=<MaxBackward1>) tensor(0.0524, grad_fn=<MeanBackward0>)\n"
     ]
    },
    {
     "name": "stderr",
     "output_type": "stream",
     "text": [
      "\n",
      "IPS 3:   0%|          | 0/16384 [00:00<?, ?it/s]\u001B[A\n",
      "IPS 3:   1%|          | 96/16384 [00:00<00:17, 955.81it/s]\u001B[A\n",
      "IPS 3:   1%|          | 195/16384 [00:00<00:16, 974.04it/s]\u001B[A\n",
      "IPS 3:   2%|▏         | 293/16384 [00:00<00:16, 968.71it/s]\u001B[A\n",
      "IPS 3:   2%|▏         | 391/16384 [00:00<00:16, 972.36it/s]\u001B[A\n",
      "IPS 3:   3%|▎         | 489/16384 [00:00<00:16, 972.81it/s]\u001B[A\n",
      "IPS 3:   4%|▎         | 587/16384 [00:00<00:16, 972.63it/s]\u001B[A\n",
      "IPS 3:   4%|▍         | 685/16384 [00:00<00:16, 974.32it/s]\u001B[A\n",
      "IPS 3:   5%|▍         | 783/16384 [00:00<00:16, 973.50it/s]\u001B[A\n",
      "IPS 3:   5%|▌         | 881/16384 [00:00<00:15, 974.47it/s]\u001B[A\n",
      "IPS 3:   6%|▌         | 979/16384 [00:01<00:15, 970.10it/s]\u001B[A\n",
      "IPS 3:   7%|▋         | 1077/16384 [00:01<00:15, 972.39it/s]\u001B[A\n",
      "IPS 3:   7%|▋         | 1175/16384 [00:01<00:15, 970.84it/s]\u001B[A\n",
      "IPS 3:   8%|▊         | 1273/16384 [00:01<00:15, 973.28it/s]\u001B[A\n"
     ]
    },
    {
     "name": "stdout",
     "output_type": "stream",
     "text": [
      "Epoch 01175: reducing learning rate of group 0 to 4.0000e-04.\n",
      "Epoch 01276: reducing learning rate of group 0 to 8.0000e-05.\n"
     ]
    },
    {
     "name": "stderr",
     "output_type": "stream",
     "text": [
      "IPS 3:   8%|▊         | 1371/16384 [00:01<00:15, 972.74it/s]\u001B[A\n",
      "IPS 3:   9%|▉         | 1469/16384 [00:01<00:15, 965.35it/s]\u001B[A\n",
      "IPS 3:  10%|▉         | 1566/16384 [00:01<00:15, 964.84it/s]\u001B[A"
     ]
    },
    {
     "name": "stdout",
     "output_type": "stream",
     "text": [
      "Epoch 01377: reducing learning rate of group 0 to 1.6000e-05.\n",
      "Epoch 01478: reducing learning rate of group 0 to 3.2000e-06.\n"
     ]
    },
    {
     "name": "stderr",
     "output_type": "stream",
     "text": [
      "\n",
      "IPS 3:  10%|█         | 1665/16384 [00:01<00:15, 970.36it/s]\u001B[A\n",
      "IPS 3:  11%|█         | 1763/16384 [00:01<00:15, 971.86it/s]\u001B[A"
     ]
    },
    {
     "name": "stdout",
     "output_type": "stream",
     "text": [
      "Epoch 01579: reducing learning rate of group 0 to 6.4000e-07.\n",
      "Epoch 01680: reducing learning rate of group 0 to 1.2800e-07.\n"
     ]
    },
    {
     "name": "stderr",
     "output_type": "stream",
     "text": [
      "IPS 3:  11%|█         | 1780/16384 [00:01<00:15, 969.81it/s]\n"
     ]
    },
    {
     "name": "stdout",
     "output_type": "stream",
     "text": [
      "Epoch 01781: reducing learning rate of group 0 to 2.5600e-08.\n",
      "Stopping at Epoch 1780\n",
      "Expected utility: -4.8067966e-05\n",
      "IPS 3 Number of samples:  torch.Size([6638, 2])\n",
      "IPS 3 Predicted Gammas:  0.5169699 0.94225484 0.7439835\n",
      "number of iteration: 1\n",
      "\n",
      "agent: 0\n",
      "\n"
     ]
    },
    {
     "name": "stderr",
     "output_type": "stream",
     "text": [
      "\n",
      "IPS 1:   0%|          | 0/16384 [00:00<?, ?it/s]\u001B[A\n",
      "IPS 1:   2%|▏         | 327/16384 [00:00<00:04, 3265.17it/s]\u001B[A\n",
      "IPS 1:   4%|▍         | 654/16384 [00:00<00:04, 3266.36it/s]\u001B[A\n",
      "IPS 1:   6%|▌         | 986/16384 [00:00<00:04, 3289.43it/s]\u001B[A\n",
      "IPS 1:   8%|▊         | 1316/16384 [00:00<00:04, 3292.72it/s]\u001B[A\n",
      "IPS 1:  10%|█         | 1711/16384 [00:00<00:04, 3283.92it/s]\u001B[A\n"
     ]
    },
    {
     "name": "stdout",
     "output_type": "stream",
     "text": [
      "Stopping at Epoch 1711\n"
     ]
    },
    {
     "name": "stderr",
     "output_type": "stream",
     "text": [
      "\n",
      "IPS 1:   0%|          | 0/16384 [00:00<?, ?it/s]\u001B[A\n",
      "IPS 1:   1%|          | 97/16384 [00:00<00:16, 969.88it/s]\u001B[A\n",
      "IPS 1:   1%|          | 195/16384 [00:00<00:16, 970.24it/s]\u001B[A\n",
      "IPS 1:   2%|▏         | 293/16384 [00:00<00:16, 959.37it/s]\u001B[A\n",
      "IPS 1:   2%|▏         | 392/16384 [00:00<00:16, 970.40it/s]\u001B[A\n",
      "IPS 1:   3%|▎         | 491/16384 [00:00<00:16, 976.11it/s]\u001B[A\n",
      "IPS 1:   4%|▎         | 590/16384 [00:00<00:16, 979.77it/s]\u001B[A\n",
      "IPS 1:   4%|▍         | 688/16384 [00:00<00:16, 969.09it/s]\u001B[A\n",
      "IPS 1:   5%|▍         | 786/16384 [00:00<00:16, 971.58it/s]\u001B[A\n",
      "IPS 1:   5%|▌         | 886/16384 [00:00<00:15, 977.68it/s]\u001B[A\n",
      "IPS 1:   6%|▌         | 985/16384 [00:01<00:15, 980.88it/s]\u001B[A\n",
      "IPS 1:   7%|▋         | 1084/16384 [00:01<00:15, 981.46it/s]\u001B[A"
     ]
    },
    {
     "name": "stdout",
     "output_type": "stream",
     "text": [
      "Epoch 00938: reducing learning rate of group 0 to 4.0000e-04.\n",
      "Epoch 01039: reducing learning rate of group 0 to 8.0000e-05.\n"
     ]
    },
    {
     "name": "stderr",
     "output_type": "stream",
     "text": [
      "\n",
      "IPS 1:   7%|▋         | 1183/16384 [00:01<00:15, 978.37it/s]\u001B[A\n",
      "IPS 1:   8%|▊         | 1282/16384 [00:01<00:15, 980.33it/s]\u001B[A"
     ]
    },
    {
     "name": "stdout",
     "output_type": "stream",
     "text": [
      "Epoch 01140: reducing learning rate of group 0 to 1.6000e-05.\n",
      "Epoch 01241: reducing learning rate of group 0 to 3.2000e-06.\n"
     ]
    },
    {
     "name": "stderr",
     "output_type": "stream",
     "text": [
      "IPS 1:   8%|▊         | 1340/16384 [00:01<00:15, 974.43it/s]\n"
     ]
    },
    {
     "name": "stdout",
     "output_type": "stream",
     "text": [
      "Stopping at Epoch 1340\n",
      "Expected utility: -0.00012542027\n",
      "IPS 1 Number of samples:  torch.Size([6671, 2])\n",
      "IPS 1 Predicted Gammas:  0.90383273 1.0 0.99996763\n",
      "agent: 1\n",
      "\n"
     ]
    },
    {
     "name": "stderr",
     "output_type": "stream",
     "text": [
      "\n",
      "IPS 2:   0%|          | 0/16384 [00:00<?, ?it/s]\u001B[A\n",
      "IPS 2:   2%|▏         | 378/16384 [00:00<00:04, 3773.70it/s]\u001B[A\n",
      "IPS 2:   6%|▋         | 1025/16384 [00:00<00:04, 3759.78it/s][A\n"
     ]
    },
    {
     "name": "stdout",
     "output_type": "stream",
     "text": [
      "Stopping at Epoch 1025\n"
     ]
    },
    {
     "name": "stderr",
     "output_type": "stream",
     "text": [
      "\n",
      "IPS 2:   0%|          | 0/16384 [00:00<?, ?it/s]\u001B[A\n",
      "IPS 2:   1%|          | 98/16384 [00:00<00:16, 974.28it/s]\u001B[A\n",
      "IPS 2:   1%|          | 198/16384 [00:00<00:16, 984.47it/s]\u001B[A\n",
      "IPS 2:   2%|▏         | 297/16384 [00:00<00:16, 980.03it/s]\u001B[A\n",
      "IPS 2:   2%|▏         | 396/16384 [00:00<00:16, 974.68it/s]\u001B[A\n",
      "IPS 2:   3%|▎         | 494/16384 [00:00<00:16, 951.63it/s]\u001B[A\n",
      "IPS 2:   4%|▎         | 590/16384 [00:00<00:16, 951.32it/s]\u001B[A\n",
      "IPS 2:   4%|▍         | 686/16384 [00:00<00:16, 952.32it/s]\u001B[A\n",
      "IPS 2:   5%|▍         | 783/16384 [00:00<00:16, 955.80it/s]\u001B[A\n",
      "IPS 2:   5%|▌         | 880/16384 [00:00<00:16, 957.81it/s]\u001B[A\n",
      "IPS 2:   6%|▌         | 978/16384 [00:01<00:15, 963.72it/s]\u001B[A\n",
      "IPS 2:   7%|▋         | 1075/16384 [00:01<00:15, 961.74it/s]\u001B[A\n",
      "IPS 2:   7%|▋         | 1172/16384 [00:01<00:15, 962.82it/s]\u001B[A\n",
      "IPS 2:   8%|▊         | 1269/16384 [00:01<00:15, 962.43it/s]\u001B[A\n",
      "IPS 2:   8%|▊         | 1367/16384 [00:01<00:15, 965.92it/s]\u001B[A\n",
      "IPS 2:   9%|▉         | 1464/16384 [00:01<00:15, 966.45it/s]\u001B[A\n",
      "IPS 2:  10%|▉         | 1562/16384 [00:01<00:15, 967.21it/s]\u001B[A\n",
      "IPS 2:  10%|█         | 1659/16384 [00:01<00:15, 967.51it/s]\u001B[A\n",
      "IPS 2:  11%|█         | 1758/16384 [00:01<00:15, 971.48it/s]\u001B[A\n",
      "IPS 2:  11%|█▏        | 1856/16384 [00:01<00:14, 971.82it/s]\u001B[A\n",
      "IPS 2:  12%|█▏        | 1954/16384 [00:02<00:14, 972.93it/s]\u001B[A\n",
      "IPS 2:  13%|█▎        | 2052/16384 [00:02<00:14, 974.02it/s]\u001B[A"
     ]
    },
    {
     "name": "stdout",
     "output_type": "stream",
     "text": [
      "Epoch 01940: reducing learning rate of group 0 to 4.0000e-04.\n",
      "Epoch 02097: reducing learning rate of group 0 to 8.0000e-05.\n"
     ]
    },
    {
     "name": "stderr",
     "output_type": "stream",
     "text": [
      "\n",
      "IPS 2:  13%|█▎        | 2150/16384 [00:02<00:14, 968.77it/s]\u001B[A\n",
      "IPS 2:  14%|█▎        | 2247/16384 [00:02<00:14, 968.23it/s]\u001B[A\n",
      "IPS 2:  14%|█▍        | 2345/16384 [00:02<00:14, 970.53it/s]\u001B[A\n",
      "IPS 2:  15%|█▍        | 2443/16384 [00:02<00:14, 972.90it/s]\u001B[A\n",
      "IPS 2:  16%|█▌        | 2541/16384 [00:02<00:14, 974.37it/s]\u001B[A\n",
      "IPS 2:  16%|█▌        | 2639/16384 [00:02<00:14, 975.40it/s]\u001B[A\n",
      "IPS 2:  17%|█▋        | 2737/16384 [00:02<00:13, 975.04it/s]\u001B[A\n",
      "IPS 2:  17%|█▋        | 2835/16384 [00:02<00:14, 963.70it/s]\u001B[A\n",
      "IPS 2:  18%|█▊        | 2933/16384 [00:03<00:13, 967.51it/s]\u001B[A\n",
      "IPS 2:  18%|█▊        | 3031/16384 [00:03<00:13, 969.71it/s]\u001B[A\n",
      "IPS 2:  19%|█▉        | 3128/16384 [00:03<00:13, 969.47it/s]\u001B[A\n",
      "IPS 2:  20%|█▉        | 3225/16384 [00:03<00:13, 967.41it/s]\u001B[A\n",
      "IPS 2:  20%|██        | 3323/16384 [00:03<00:13, 968.52it/s]\u001B[A\n",
      "IPS 2:  21%|██        | 3421/16384 [00:03<00:13, 970.37it/s]\u001B[A\n",
      "IPS 2:  21%|██▏       | 3519/16384 [00:03<00:13, 972.37it/s]\u001B[A\n",
      "IPS 2:  22%|██▏       | 3617/16384 [00:03<00:13, 973.91it/s]\u001B[A\n",
      "IPS 2:  23%|██▎       | 3715/16384 [00:03<00:12, 975.04it/s]\u001B[A\n",
      "IPS 2:  23%|██▎       | 3813/16384 [00:03<00:12, 976.48it/s]\u001B[A\n",
      "IPS 2:  24%|██▍       | 3913/16384 [00:04<00:12, 982.07it/s]\u001B[A\n",
      "IPS 2:  24%|██▍       | 4012/16384 [00:04<00:12, 981.06it/s]\u001B[A\n",
      "IPS 2:  25%|██▌       | 4111/16384 [00:04<00:12, 982.18it/s]\u001B[A\n",
      "IPS 2:  26%|██▌       | 4210/16384 [00:04<00:12, 976.14it/s]\u001B[A\n",
      "IPS 2:  26%|██▋       | 4308/16384 [00:04<00:12, 975.09it/s]\u001B[A\n",
      "IPS 2:  27%|██▋       | 4406/16384 [00:04<00:12, 975.51it/s]\u001B[A\n",
      "IPS 2:  27%|██▋       | 4505/16384 [00:04<00:12, 979.35it/s]\u001B[A\n",
      "IPS 2:  28%|██▊       | 4603/16384 [00:04<00:12, 977.04it/s]\u001B[A\n",
      "IPS 2:  29%|██▊       | 4701/16384 [00:04<00:11, 977.13it/s]\u001B[A\n",
      "IPS 2:  29%|██▉       | 4799/16384 [00:04<00:11, 974.17it/s]\u001B[A\n",
      "IPS 2:  30%|██▉       | 4898/16384 [00:05<00:11, 978.67it/s]\u001B[A\n",
      "IPS 2:  30%|███       | 4997/16384 [00:05<00:11, 980.99it/s]\u001B[A\n",
      "IPS 2:  31%|███       | 5096/16384 [00:05<00:11, 974.54it/s]\u001B[A\n",
      "IPS 2:  32%|███▏      | 5194/16384 [00:05<00:11, 966.23it/s]\u001B[A\n",
      "IPS 2:  32%|███▏      | 5293/16384 [00:05<00:11, 970.85it/s]\u001B[A\n",
      "IPS 2:  33%|███▎      | 5392/16384 [00:05<00:11, 975.79it/s]\u001B[A\n",
      "IPS 2:  34%|███▎      | 5491/16384 [00:05<00:11, 978.95it/s]\u001B[A\n",
      "IPS 2:  34%|███▍      | 5591/16384 [00:05<00:10, 983.24it/s]\u001B[A\n",
      "IPS 2:  35%|███▍      | 5690/16384 [00:05<00:10, 976.28it/s]\u001B[A\n",
      "IPS 2:  35%|███▌      | 5789/16384 [00:05<00:10, 978.06it/s]\u001B[A\n",
      "IPS 2:  36%|███▌      | 5887/16384 [00:06<00:10, 977.85it/s]\u001B[A\n",
      "IPS 2:  37%|███▋      | 5986/16384 [00:06<00:10, 979.25it/s]\u001B[A\n",
      "IPS 2:  37%|███▋      | 6085/16384 [00:06<00:10, 981.68it/s]\u001B[A\n",
      "IPS 2:  38%|███▊      | 6184/16384 [00:06<00:10, 966.25it/s]\u001B[A\n",
      "IPS 2:  38%|███▊      | 6281/16384 [00:06<00:10, 955.42it/s]\u001B[A\n",
      "IPS 2:  39%|███▉      | 6378/16384 [00:06<00:10, 957.85it/s]\u001B[A\n",
      "IPS 2:  40%|███▉      | 6474/16384 [00:06<00:10, 954.25it/s]\u001B[A\n",
      "IPS 2:  40%|████      | 6570/16384 [00:06<00:10, 952.56it/s]\u001B[A\n",
      "IPS 2:  41%|████      | 6666/16384 [00:06<00:10, 953.23it/s]\u001B[A\n",
      "IPS 2:  41%|████▏     | 6764/16384 [00:06<00:10, 960.49it/s]\u001B[A\n",
      "IPS 2:  42%|████▏     | 6862/16384 [00:07<00:09, 964.13it/s]\u001B[A\n",
      "IPS 2:  42%|████▏     | 6959/16384 [00:07<00:09, 955.84it/s]\u001B[A\n",
      "IPS 2:  43%|████▎     | 7056/16384 [00:07<00:09, 959.32it/s]\u001B[A\n",
      "IPS 2:  44%|████▎     | 7153/16384 [00:07<00:09, 960.15it/s]\u001B[A\n",
      "IPS 2:  44%|████▍     | 7250/16384 [00:07<00:09, 959.64it/s]\u001B[A\n",
      "IPS 2:  45%|████▍     | 7347/16384 [00:07<00:09, 961.78it/s]\u001B[A\n",
      "IPS 2:  45%|████▌     | 7444/16384 [00:07<00:09, 963.49it/s]\u001B[A\n",
      "IPS 2:  46%|████▌     | 7542/16384 [00:07<00:09, 967.31it/s]\u001B[A\n",
      "IPS 2:  47%|████▋     | 7639/16384 [00:07<00:09, 963.84it/s]\u001B[A\n",
      "IPS 2:  47%|████▋     | 7736/16384 [00:07<00:08, 963.95it/s]\u001B[A\n",
      "IPS 2:  48%|████▊     | 7833/16384 [00:08<00:08, 958.15it/s]\u001B[A\n",
      "IPS 2:  48%|████▊     | 7930/16384 [00:08<00:08, 960.04it/s]\u001B[A\n",
      "IPS 2:  49%|████▉     | 8028/16384 [00:08<00:08, 965.06it/s]\u001B[A\n",
      "IPS 2:  50%|████▉     | 8125/16384 [00:08<00:08, 962.59it/s]\u001B[A\n",
      "IPS 2:  50%|█████     | 8222/16384 [00:08<00:08, 960.78it/s]\u001B[A\n",
      "IPS 2:  51%|█████     | 8319/16384 [00:08<00:08, 961.86it/s]\u001B[A\n",
      "IPS 2:  51%|█████▏    | 8416/16384 [00:08<00:08, 964.13it/s]\u001B[A\n",
      "IPS 2:  52%|█████▏    | 8514/16384 [00:08<00:08, 966.39it/s]\u001B[A\n",
      "IPS 2:  53%|█████▎    | 8611/16384 [00:08<00:08, 963.04it/s]\u001B[A\n",
      "IPS 2:  53%|█████▎    | 8708/16384 [00:08<00:07, 962.66it/s]\u001B[A\n",
      "IPS 2:  54%|█████▎    | 8806/16384 [00:09<00:07, 964.89it/s]\u001B[A\n",
      "IPS 2:  54%|█████▍    | 8904/16384 [00:09<00:07, 966.95it/s]\u001B[A\n",
      "IPS 2:  55%|█████▍    | 9002/16384 [00:09<00:07, 969.36it/s]\u001B[A\n",
      "IPS 2:  56%|█████▌    | 9099/16384 [00:09<00:07, 968.03it/s]\u001B[A\n",
      "IPS 2:  56%|█████▌    | 9196/16384 [00:09<00:07, 967.79it/s]\u001B[A\n",
      "IPS 2:  57%|█████▋    | 9293/16384 [00:09<00:07, 967.55it/s]\u001B[A"
     ]
    },
    {
     "name": "stdout",
     "output_type": "stream",
     "text": [
      "Epoch 09117: reducing learning rate of group 0 to 1.6000e-05.\n"
     ]
    },
    {
     "name": "stderr",
     "output_type": "stream",
     "text": [
      "\n",
      "IPS 2:  57%|█████▋    | 9390/16384 [00:09<00:07, 959.27it/s]\u001B[A\n",
      "IPS 2:  58%|█████▊    | 9486/16384 [00:09<00:07, 959.38it/s]\u001B[A\n",
      "IPS 2:  58%|█████▊    | 9582/16384 [00:09<00:07, 953.36it/s]\u001B[A\n",
      "IPS 2:  59%|█████▉    | 9680/16384 [00:10<00:06, 958.58it/s]\u001B[A\n",
      "IPS 2:  60%|█████▉    | 9776/16384 [00:10<00:06, 952.87it/s]\u001B[A\n",
      "IPS 2:  60%|██████    | 9874/16384 [00:10<00:06, 958.20it/s]\u001B[A\n",
      "IPS 2:  61%|██████    | 9970/16384 [00:10<00:06, 956.24it/s]\u001B[A\n",
      "IPS 2:  61%|██████▏   | 10066/16384 [00:10<00:06, 957.15it/s]\u001B[A\n",
      "IPS 2:  62%|██████▏   | 10163/16384 [00:10<00:06, 959.27it/s]\u001B[A\n",
      "IPS 2:  63%|██████▎   | 10262/16384 [00:10<00:06, 965.52it/s]\u001B[A\n",
      "IPS 2:  63%|██████▎   | 10359/16384 [00:10<00:06, 966.81it/s]\u001B[A\n",
      "IPS 2:  64%|██████▍   | 10456/16384 [00:10<00:06, 954.95it/s]\u001B[A\n",
      "IPS 2:  64%|██████▍   | 10552/16384 [00:10<00:06, 953.80it/s]\u001B[A\n",
      "IPS 2:  65%|██████▍   | 10648/16384 [00:11<00:06, 954.50it/s]\u001B[A\n",
      "IPS 2:  66%|██████▌   | 10745/16384 [00:11<00:05, 956.29it/s]\u001B[A\n",
      "IPS 2:  66%|██████▌   | 10841/16384 [00:11<00:05, 955.53it/s]\u001B[A\n",
      "IPS 2:  67%|██████▋   | 10939/16384 [00:11<00:05, 960.18it/s]\u001B[A\n",
      "IPS 2:  67%|██████▋   | 11036/16384 [00:11<00:05, 956.88it/s]\u001B[A\n",
      "IPS 2:  68%|██████▊   | 11133/16384 [00:11<00:05, 958.21it/s]\u001B[A\n",
      "IPS 2:  69%|██████▊   | 11232/16384 [00:11<00:05, 965.33it/s]\u001B[A\n",
      "IPS 2:  69%|██████▉   | 11329/16384 [00:11<00:05, 961.73it/s]\u001B[A\n",
      "IPS 2:  70%|██████▉   | 11427/16384 [00:11<00:05, 964.77it/s]\u001B[A\n",
      "IPS 2:  70%|███████   | 11524/16384 [00:11<00:05, 961.97it/s]\u001B[A\n",
      "IPS 2:  71%|███████   | 11621/16384 [00:12<00:04, 961.39it/s]\u001B[A\n",
      "IPS 2:  72%|███████▏  | 11720/16384 [00:12<00:04, 967.61it/s]\u001B[A\n",
      "IPS 2:  72%|███████▏  | 11818/16384 [00:12<00:04, 971.11it/s]\u001B[A\n",
      "IPS 2:  73%|███████▎  | 11916/16384 [00:12<00:04, 968.55it/s]\u001B[A\n",
      "IPS 2:  73%|███████▎  | 12013/16384 [00:12<00:04, 967.44it/s]\u001B[A\n",
      "IPS 2:  74%|███████▍  | 12110/16384 [00:12<00:04, 958.34it/s]\u001B[A\n",
      "IPS 2:  74%|███████▍  | 12206/16384 [00:12<00:04, 944.90it/s]\u001B[A\n",
      "IPS 2:  75%|███████▌  | 12303/16384 [00:12<00:04, 950.72it/s]\u001B[A\n",
      "IPS 2:  76%|███████▌  | 12402/16384 [00:12<00:04, 960.03it/s]\u001B[A\n",
      "IPS 2:  76%|███████▋  | 12500/16384 [00:12<00:04, 964.78it/s]\u001B[A\n",
      "IPS 2:  77%|███████▋  | 12599/16384 [00:13<00:03, 969.95it/s]\u001B[A\n",
      "IPS 2:  78%|███████▊  | 12698/16384 [00:13<00:03, 974.58it/s]\u001B[A\n",
      "IPS 2:  78%|███████▊  | 12796/16384 [00:13<00:03, 974.12it/s]\u001B[A\n",
      "IPS 2:  79%|███████▊  | 12894/16384 [00:13<00:03, 969.45it/s]\u001B[A\n",
      "IPS 2:  79%|███████▉  | 12991/16384 [00:13<00:03, 963.94it/s]\u001B[A\n",
      "IPS 2:  80%|███████▉  | 13090/16384 [00:13<00:03, 969.53it/s]\u001B[A\n",
      "IPS 2:  80%|████████  | 13189/16384 [00:13<00:03, 973.55it/s]\u001B[A\n",
      "IPS 2:  81%|████████  | 13287/16384 [00:13<00:03, 953.80it/s]\u001B[A\n",
      "IPS 2:  82%|████████▏ | 13385/16384 [00:13<00:03, 960.67it/s]\u001B[A\n",
      "IPS 2:  82%|████████▏ | 13482/16384 [00:13<00:03, 953.38it/s]\u001B[A\n",
      "IPS 2:  83%|████████▎ | 13580/16384 [00:14<00:02, 959.95it/s]\u001B[A\n",
      "IPS 2:  83%|████████▎ | 13679/16384 [00:14<00:02, 967.68it/s]\u001B[A\n",
      "IPS 2:  84%|████████▍ | 13778/16384 [00:14<00:02, 973.44it/s]\u001B[A\n",
      "IPS 2:  85%|████████▍ | 13876/16384 [00:14<00:02, 964.29it/s]\u001B[A\n",
      "IPS 2:  85%|████████▌ | 13973/16384 [00:14<00:02, 961.04it/s]\u001B[A\n",
      "IPS 2:  86%|████████▌ | 14071/16384 [00:14<00:02, 965.80it/s]\u001B[A\n",
      "IPS 2:  86%|████████▋ | 14169/16384 [00:14<00:02, 969.57it/s]\u001B[A\n",
      "IPS 2:  87%|████████▋ | 14268/16384 [00:14<00:02, 974.58it/s]\u001B[A\n",
      "IPS 2:  88%|████████▊ | 14366/16384 [00:14<00:02, 972.71it/s]\u001B[A\n",
      "IPS 2:  88%|████████▊ | 14464/16384 [00:14<00:01, 973.39it/s]\u001B[A\n",
      "IPS 2:  89%|████████▉ | 14562/16384 [00:15<00:01, 959.05it/s]\u001B[A\n",
      "IPS 2:  89%|████████▉ | 14661/16384 [00:15<00:01, 966.25it/s]\u001B[A\n",
      "IPS 2:  90%|█████████ | 14759/16384 [00:15<00:01, 969.02it/s]\u001B[A\n",
      "IPS 2:  91%|█████████ | 14857/16384 [00:15<00:01, 969.99it/s]\u001B[A\n",
      "IPS 2:  91%|█████████▏| 14956/16384 [00:15<00:01, 975.11it/s]\u001B[A\n",
      "IPS 2:  92%|█████████▏| 15054/16384 [00:15<00:01, 973.15it/s]\u001B[A\n",
      "IPS 2:  92%|█████████▏| 15152/16384 [00:15<00:01, 971.78it/s]\u001B[A\n",
      "IPS 2:  93%|█████████▎| 15251/16384 [00:15<00:01, 974.55it/s]\u001B[A\n",
      "IPS 2:  94%|█████████▎| 15349/16384 [00:15<00:01, 971.67it/s]\u001B[A\n",
      "IPS 2:  94%|█████████▍| 15447/16384 [00:15<00:00, 972.74it/s]\u001B[A\n",
      "IPS 2:  95%|█████████▍| 15545/16384 [00:16<00:00, 974.03it/s]\u001B[A\n",
      "IPS 2:  95%|█████████▌| 15644/16384 [00:16<00:00, 975.81it/s]\u001B[A\n",
      "IPS 2:  96%|█████████▌| 15742/16384 [00:16<00:00, 974.57it/s]\u001B[A\n",
      "IPS 2:  97%|█████████▋| 15840/16384 [00:16<00:00, 971.48it/s]\u001B[A\n",
      "IPS 2:  97%|█████████▋| 15938/16384 [00:16<00:00, 972.57it/s]\u001B[A\n",
      "IPS 2:  98%|█████████▊| 16037/16384 [00:16<00:00, 974.97it/s]\u001B[A\n",
      "IPS 2:  98%|█████████▊| 16136/16384 [00:16<00:00, 979.33it/s]\u001B[A\n",
      "IPS 2:  99%|█████████▉| 16235/16384 [00:16<00:00, 979.75it/s]\u001B[A\n",
      "IPS 2: 100%|██████████| 16384/16384 [00:16<00:00, 967.01it/s]\u001B[A\n"
     ]
    },
    {
     "name": "stdout",
     "output_type": "stream",
     "text": [
      "Expected utility: 0.09952815\n",
      "IPS 2 Number of samples:  torch.Size([6721, 2])\n",
      "IPS 2 Predicted Gammas:  0.9441851 1.0 0.9982235\n",
      "agent: 2\n",
      "\n"
     ]
    },
    {
     "name": "stderr",
     "output_type": "stream",
     "text": [
      "\n",
      "IPS 3:   0%|          | 0/16384 [00:00<?, ?it/s]\u001B[A\n",
      "IPS 3:   2%|▏         | 266/16384 [00:00<00:06, 2656.95it/s]\u001B[A\n",
      "IPS 3:   3%|▎         | 534/16384 [00:00<00:05, 2669.37it/s]\u001B[A\n",
      "IPS 3:   5%|▍         | 803/16384 [00:00<00:05, 2678.64it/s]\u001B[A\n",
      "IPS 3:   7%|▋         | 1071/16384 [00:00<00:05, 2666.82it/s]\u001B[A\n",
      "IPS 3:   8%|▊         | 1338/16384 [00:00<00:05, 2622.57it/s]\u001B[A\n",
      "IPS 3:  10%|▉         | 1603/16384 [00:00<00:05, 2630.56it/s]\u001B[A\n",
      "IPS 3:  11%|█▏        | 1878/16384 [00:00<00:05, 2668.43it/s]\u001B[A\n",
      "IPS 3:  13%|█▎        | 2152/16384 [00:00<00:05, 2690.73it/s]\u001B[A\n",
      "IPS 3:  15%|█▍        | 2428/16384 [00:00<00:05, 2709.79it/s]\u001B[A\n",
      "IPS 3:  16%|█▋        | 2700/16384 [00:01<00:05, 2702.89it/s]\u001B[A\n",
      "IPS 3:  18%|█▊        | 2972/16384 [00:01<00:04, 2707.11it/s]\u001B[A\n",
      "IPS 3:  20%|█▉        | 3247/16384 [00:01<00:04, 2718.79it/s]\u001B[A\n",
      "IPS 3:  21%|██▏       | 3520/16384 [00:01<00:04, 2720.18it/s]\u001B[A\n",
      "IPS 3:  23%|██▎       | 3793/16384 [00:01<00:04, 2697.15it/s]\u001B[A\n",
      "IPS 3:  25%|██▍       | 4066/16384 [00:01<00:04, 2704.61it/s]\u001B[A\n",
      "IPS 3:  26%|██▋       | 4340/16384 [00:01<00:04, 2713.82it/s]\u001B[A\n",
      "IPS 3:  28%|██▊       | 4613/16384 [00:01<00:04, 2717.49it/s]\u001B[A\n",
      "IPS 3:  31%|███       | 5013/16384 [00:01<00:04, 2696.36it/s]\u001B[A\n"
     ]
    },
    {
     "name": "stdout",
     "output_type": "stream",
     "text": [
      "Stopping at Epoch 5013\n"
     ]
    },
    {
     "name": "stderr",
     "output_type": "stream",
     "text": [
      "\n",
      "IPS 3:   0%|          | 0/16384 [00:00<?, ?it/s]\u001B[A\n",
      "IPS 3:   1%|          | 101/16384 [00:00<00:16, 1003.18it/s]\u001B[A\n",
      "IPS 3:   1%|          | 202/16384 [00:00<00:16, 992.93it/s] \u001B[A\n",
      "IPS 3:   2%|▏         | 302/16384 [00:00<00:16, 986.36it/s]\u001B[A\n",
      "IPS 3:   2%|▏         | 402/16384 [00:00<00:16, 989.54it/s]\u001B[A\n",
      "IPS 3:   3%|▎         | 501/16384 [00:00<00:16, 981.03it/s]\u001B[A\n",
      "IPS 3:   4%|▎         | 601/16384 [00:00<00:16, 985.12it/s]\u001B[A\n",
      "IPS 3:   4%|▍         | 700/16384 [00:00<00:15, 986.25it/s]\u001B[A\n",
      "IPS 3:   5%|▍         | 800/16384 [00:00<00:15, 990.16it/s]\u001B[A\n",
      "IPS 3:   5%|▌         | 900/16384 [00:00<00:15, 990.17it/s]\u001B[A\n",
      "IPS 3:   6%|▌         | 1000/16384 [00:01<00:15, 984.90it/s]\u001B[A\n",
      "IPS 3:   7%|▋         | 1099/16384 [00:01<00:15, 980.80it/s]\u001B[A\n",
      "IPS 3:   7%|▋         | 1198/16384 [00:01<00:15, 981.46it/s]\u001B[A\n",
      "IPS 3:   8%|▊         | 1297/16384 [00:01<00:15, 980.37it/s]\u001B[A\n",
      "IPS 3:   9%|▊         | 1396/16384 [00:01<00:15, 981.05it/s]\u001B[A\n",
      "IPS 3:   9%|▉         | 1495/16384 [00:01<00:15, 974.30it/s]\u001B[A\n",
      "IPS 3:  10%|▉         | 1593/16384 [00:01<00:15, 970.87it/s]\u001B[A\n",
      "IPS 3:  10%|█         | 1691/16384 [00:01<00:15, 967.10it/s]\u001B[A\n",
      "IPS 3:  11%|█         | 1788/16384 [00:01<00:15, 966.35it/s]\u001B[A\n",
      "IPS 3:  12%|█▏        | 1885/16384 [00:01<00:15, 964.26it/s]\u001B[A\n",
      "IPS 3:  12%|█▏        | 1982/16384 [00:02<00:15, 950.88it/s]\u001B[A\n",
      "IPS 3:  13%|█▎        | 2079/16384 [00:02<00:14, 953.84it/s]\u001B[A\n",
      "IPS 3:  13%|█▎        | 2175/16384 [00:02<00:14, 949.66it/s]\u001B[A\n",
      "IPS 3:  14%|█▍        | 2270/16384 [00:02<00:14, 948.66it/s]\u001B[A\n",
      "IPS 3:  14%|█▍        | 2366/16384 [00:02<00:14, 950.05it/s]\u001B[A"
     ]
    },
    {
     "name": "stdout",
     "output_type": "stream",
     "text": [
      "Epoch 02214: reducing learning rate of group 0 to 4.0000e-04.\n"
     ]
    },
    {
     "name": "stderr",
     "output_type": "stream",
     "text": [
      "\n",
      "IPS 3:  15%|█▌        | 2462/16384 [00:02<00:14, 942.82it/s]\u001B[A\n",
      "IPS 3:  16%|█▌        | 2557/16384 [00:02<00:14, 940.55it/s]\u001B[A\n",
      "IPS 3:  16%|█▌        | 2654/16384 [00:02<00:14, 946.60it/s]\u001B[A"
     ]
    },
    {
     "name": "stdout",
     "output_type": "stream",
     "text": [
      "Epoch 02510: reducing learning rate of group 0 to 8.0000e-05.\n",
      "Epoch 02611: reducing learning rate of group 0 to 1.6000e-05.\n"
     ]
    },
    {
     "name": "stderr",
     "output_type": "stream",
     "text": [
      "\n",
      "IPS 3:  17%|█▋        | 2749/16384 [00:02<00:14, 944.87it/s]\u001B[A\n",
      "IPS 3:  17%|█▋        | 2844/16384 [00:02<00:14, 939.30it/s]\u001B[A\n",
      "IPS 3:  18%|█▊        | 2941/16384 [00:03<00:14, 946.07it/s]\u001B[A"
     ]
    },
    {
     "name": "stdout",
     "output_type": "stream",
     "text": [
      "Epoch 02758: reducing learning rate of group 0 to 3.2000e-06.\n",
      "Epoch 02859: reducing learning rate of group 0 to 6.4000e-07.\n"
     ]
    },
    {
     "name": "stderr",
     "output_type": "stream",
     "text": [
      "\n",
      "IPS 3:  19%|█▊        | 3036/16384 [00:03<00:14, 943.59it/s]\u001B[A\n",
      "IPS 3:  19%|█▉        | 3131/16384 [00:03<00:14, 945.15it/s]\u001B[A"
     ]
    },
    {
     "name": "stdout",
     "output_type": "stream",
     "text": [
      "Epoch 02960: reducing learning rate of group 0 to 1.2800e-07.\n",
      "Epoch 03061: reducing learning rate of group 0 to 2.5600e-08.\n"
     ]
    },
    {
     "name": "stderr",
     "output_type": "stream",
     "text": [
      "\n",
      "IPS 3:  20%|██        | 3290/16384 [00:03<00:13, 961.82it/s]\u001B[A\n"
     ]
    },
    {
     "name": "stdout",
     "output_type": "stream",
     "text": [
      "Epoch 03162: reducing learning rate of group 0 to 1.0000e-08.\n",
      "Stopping at Epoch 3290\n",
      "Expected utility: -0.00460603\n",
      "IPS 3 Number of samples:  torch.Size([6608, 2])\n",
      "IPS 3 Predicted Gammas:  0.51949924 0.61640227 0.5613427\n",
      "number of iteration: 2\n",
      "\n",
      "agent: 0\n",
      "\n"
     ]
    },
    {
     "name": "stderr",
     "output_type": "stream",
     "text": [
      "\n",
      "IPS 1:   0%|          | 0/16384 [00:00<?, ?it/s]\u001B[A\n",
      "IPS 1:   2%|▏         | 308/16384 [00:00<00:05, 3073.02it/s]\u001B[A\n",
      "IPS 1:   4%|▍         | 617/16384 [00:00<00:05, 3081.78it/s]\u001B[A\n",
      "IPS 1:   6%|▋         | 1025/16384 [00:00<00:05, 3057.94it/s][A\n"
     ]
    },
    {
     "name": "stdout",
     "output_type": "stream",
     "text": [
      "Stopping at Epoch 1025\n"
     ]
    },
    {
     "name": "stderr",
     "output_type": "stream",
     "text": [
      "\n",
      "IPS 1:   0%|          | 0/16384 [00:00<?, ?it/s]\u001B[A\n",
      "IPS 1:   1%|          | 97/16384 [00:00<00:16, 964.73it/s]\u001B[A\n",
      "IPS 1:   1%|          | 195/16384 [00:00<00:16, 972.22it/s]\u001B[A\n",
      "IPS 1:   2%|▏         | 293/16384 [00:00<00:16, 974.96it/s]\u001B[A\n",
      "IPS 1:   2%|▏         | 391/16384 [00:00<00:16, 972.39it/s]\u001B[A\n",
      "IPS 1:   3%|▎         | 489/16384 [00:00<00:16, 972.86it/s]\u001B[A\n",
      "IPS 1:   4%|▎         | 588/16384 [00:00<00:16, 977.93it/s]\u001B[A\n",
      "IPS 1:   4%|▍         | 686/16384 [00:00<00:16, 974.54it/s]\u001B[A\n",
      "IPS 1:   5%|▍         | 784/16384 [00:00<00:16, 970.98it/s]\u001B[A\n",
      "IPS 1:   5%|▌         | 882/16384 [00:00<00:16, 963.19it/s]\u001B[A\n",
      "IPS 1:   6%|▌         | 979/16384 [00:01<00:16, 959.96it/s]\u001B[A"
     ]
    },
    {
     "name": "stdout",
     "output_type": "stream",
     "text": [
      "Epoch 00838: reducing learning rate of group 0 to 4.0000e-04.\n",
      "Epoch 00939: reducing learning rate of group 0 to 8.0000e-05.\n"
     ]
    },
    {
     "name": "stderr",
     "output_type": "stream",
     "text": [
      "\n",
      "IPS 1:   7%|▋         | 1137/16384 [00:01<00:15, 966.25it/s]\u001B[A\n"
     ]
    },
    {
     "name": "stdout",
     "output_type": "stream",
     "text": [
      "Epoch 01040: reducing learning rate of group 0 to 1.6000e-05.\n",
      "Stopping at Epoch 1137\n",
      "Expected utility: -3.048042e-06\n",
      "IPS 1 Number of samples:  torch.Size([6657, 2])\n",
      "IPS 1 Predicted Gammas:  1.0 1.0 1.0\n",
      "agent: 1\n",
      "\n"
     ]
    },
    {
     "name": "stderr",
     "output_type": "stream",
     "text": [
      "\n",
      "IPS 2:   0%|          | 0/16384 [00:00<?, ?it/s]\u001B[A\n",
      "IPS 2:   2%|▏         | 283/16384 [00:00<00:05, 2824.47it/s]\u001B[A\n",
      "IPS 2:   4%|▎         | 581/16384 [00:00<00:05, 2912.62it/s]\u001B[A\n",
      "IPS 2:   7%|▋         | 1105/16384 [00:00<00:05, 2936.47it/s][A\n"
     ]
    },
    {
     "name": "stdout",
     "output_type": "stream",
     "text": [
      "Stopping at Epoch 1105\n"
     ]
    },
    {
     "name": "stderr",
     "output_type": "stream",
     "text": [
      "\n",
      "IPS 2:   0%|          | 0/16384 [00:00<?, ?it/s]\u001B[A\n",
      "IPS 2:   1%|          | 95/16384 [00:00<00:17, 943.89it/s]\u001B[A"
     ]
    },
    {
     "name": "stdout",
     "output_type": "stream",
     "text": [
      "Epoch 00108: reducing learning rate of group 0 to 4.0000e-04.\n"
     ]
    },
    {
     "name": "stderr",
     "output_type": "stream",
     "text": [
      "\n",
      "IPS 2:   1%|          | 190/16384 [00:00<00:17, 937.08it/s]\u001B[A\n",
      "IPS 2:   2%|▏         | 284/16384 [00:00<00:17, 930.55it/s]\u001B[A"
     ]
    },
    {
     "name": "stdout",
     "output_type": "stream",
     "text": [
      "Epoch 00209: reducing learning rate of group 0 to 8.0000e-05.\n"
     ]
    },
    {
     "name": "stderr",
     "output_type": "stream",
     "text": [
      "\n",
      "IPS 2:   2%|▏         | 379/16384 [00:00<00:17, 936.50it/s]\u001B[A"
     ]
    },
    {
     "name": "stdout",
     "output_type": "stream",
     "text": [
      "Epoch 00310: reducing learning rate of group 0 to 1.6000e-05.\n"
     ]
    },
    {
     "name": "stderr",
     "output_type": "stream",
     "text": [
      "\n",
      "IPS 2:   3%|▎         | 473/16384 [00:00<00:16, 937.64it/s]\u001B[A"
     ]
    },
    {
     "name": "stdout",
     "output_type": "stream",
     "text": [
      "Epoch 00411: reducing learning rate of group 0 to 3.2000e-06.\n"
     ]
    },
    {
     "name": "stderr",
     "output_type": "stream",
     "text": [
      "IPS 2:   3%|▎         | 519/16384 [00:00<00:16, 933.72it/s]\n"
     ]
    },
    {
     "name": "stdout",
     "output_type": "stream",
     "text": [
      "Epoch 00512: reducing learning rate of group 0 to 6.4000e-07.\n",
      "Stopping at Epoch 519\n",
      "Expected utility: 0.00044431316\n",
      "IPS 2 Number of samples:  torch.Size([6607, 2])\n",
      "IPS 2 Predicted Gammas:  0.96947 1.0 0.9998922\n",
      "agent: 2\n",
      "\n"
     ]
    },
    {
     "name": "stderr",
     "output_type": "stream",
     "text": [
      "\n",
      "IPS 3:   0%|          | 0/16384 [00:00<?, ?it/s]\u001B[A\n",
      "IPS 3:   2%|▏         | 326/16384 [00:00<00:04, 3257.59it/s]\u001B[A\n",
      "IPS 3:   4%|▍         | 660/16384 [00:00<00:04, 3301.29it/s]\u001B[A\n",
      "IPS 3:   6%|▌         | 1001/16384 [00:00<00:04, 3349.51it/s]\u001B[A\n",
      "IPS 3:  10%|▉         | 1632/16384 [00:00<00:04, 3336.31it/s]\u001B[A\n"
     ]
    },
    {
     "name": "stdout",
     "output_type": "stream",
     "text": [
      "Stopping at Epoch 1632\n"
     ]
    },
    {
     "name": "stderr",
     "output_type": "stream",
     "text": [
      "\n",
      "IPS 3:   0%|          | 0/16384 [00:00<?, ?it/s]\u001B[A\n",
      "IPS 3:   1%|          | 92/16384 [00:00<00:17, 917.41it/s]\u001B[A\n",
      "IPS 3:   1%|          | 186/16384 [00:00<00:17, 930.35it/s]\u001B[A\n",
      "IPS 3:   2%|▏         | 280/16384 [00:00<00:17, 933.67it/s]\u001B[A\n",
      "IPS 3:   2%|▏         | 374/16384 [00:00<00:17, 935.01it/s]\u001B[A\n",
      "IPS 3:   3%|▎         | 469/16384 [00:00<00:16, 939.59it/s]\u001B[A\n",
      "IPS 3:   3%|▎         | 563/16384 [00:00<00:16, 935.27it/s]\u001B[A\n",
      "IPS 3:   4%|▍         | 659/16384 [00:00<00:16, 940.26it/s]\u001B[A\n",
      "IPS 3:   5%|▍         | 756/16384 [00:00<00:16, 948.49it/s]\u001B[A\n",
      "IPS 3:   5%|▌         | 853/16384 [00:00<00:16, 953.28it/s]\u001B[A\n",
      "IPS 3:   6%|▌         | 949/16384 [00:01<00:16, 955.24it/s]\u001B[A\n",
      "IPS 3:   6%|▋         | 1045/16384 [00:01<00:16, 954.26it/s]\u001B[A\n",
      "IPS 3:   7%|▋         | 1142/16384 [00:01<00:15, 957.24it/s]\u001B[A\n",
      "IPS 3:   8%|▊         | 1240/16384 [00:01<00:15, 961.56it/s]\u001B[A\n",
      "IPS 3:   8%|▊         | 1337/16384 [00:01<00:15, 963.85it/s]\u001B[A\n",
      "IPS 3:   9%|▉         | 1434/16384 [00:01<00:15, 963.77it/s]\u001B[A\n",
      "IPS 3:   9%|▉         | 1531/16384 [00:01<00:15, 963.43it/s]\u001B[A\n",
      "IPS 3:  10%|▉         | 1628/16384 [00:01<00:15, 957.80it/s]\u001B[A\n",
      "IPS 3:  11%|█         | 1724/16384 [00:01<00:15, 952.34it/s]\u001B[A\n",
      "IPS 3:  11%|█         | 1820/16384 [00:01<00:15, 950.46it/s]\u001B[A\n",
      "IPS 3:  12%|█▏        | 1917/16384 [00:02<00:15, 953.07it/s]\u001B[A\n",
      "IPS 3:  12%|█▏        | 2013/16384 [00:02<00:15, 944.12it/s]\u001B[A\n",
      "IPS 3:  13%|█▎        | 2108/16384 [00:02<00:15, 942.32it/s]\u001B[A\n",
      "IPS 3:  13%|█▎        | 2203/16384 [00:02<00:15, 941.01it/s]\u001B[A\n",
      "IPS 3:  14%|█▍        | 2298/16384 [00:02<00:14, 939.58it/s]\u001B[A\n",
      "IPS 3:  15%|█▍        | 2392/16384 [00:02<00:14, 937.18it/s]\u001B[A\n",
      "IPS 3:  15%|█▌        | 2486/16384 [00:02<00:14, 931.51it/s]\u001B[A\n",
      "IPS 3:  16%|█▌        | 2580/16384 [00:02<00:14, 928.68it/s]\u001B[A\n",
      "IPS 3:  16%|█▋        | 2673/16384 [00:02<00:14, 927.93it/s]\u001B[A\n",
      "IPS 3:  17%|█▋        | 2766/16384 [00:02<00:14, 928.05it/s]\u001B[A"
     ]
    },
    {
     "name": "stdout",
     "output_type": "stream",
     "text": [
      "Epoch 02602: reducing learning rate of group 0 to 4.0000e-04.\n"
     ]
    },
    {
     "name": "stderr",
     "output_type": "stream",
     "text": [
      "\n",
      "IPS 3:  17%|█▋        | 2859/16384 [00:03<00:14, 923.71it/s]\u001B[A\n",
      "IPS 3:  18%|█▊        | 2952/16384 [00:03<00:14, 917.90it/s]\u001B[A\n",
      "IPS 3:  19%|█▊        | 3044/16384 [00:03<00:14, 917.99it/s]\u001B[A\n",
      "IPS 3:  19%|█▉        | 3137/16384 [00:03<00:14, 920.36it/s]\u001B[A\n",
      "IPS 3:  20%|█▉        | 3230/16384 [00:03<00:14, 921.68it/s]\u001B[A\n",
      "IPS 3:  20%|██        | 3323/16384 [00:03<00:14, 922.79it/s]\u001B[A\n",
      "IPS 3:  21%|██        | 3416/16384 [00:03<00:14, 917.07it/s]\u001B[A\n",
      "IPS 3:  21%|██▏       | 3508/16384 [00:03<00:14, 917.28it/s]\u001B[A\n",
      "IPS 3:  22%|██▏       | 3601/16384 [00:03<00:13, 919.22it/s]\u001B[A\n",
      "IPS 3:  23%|██▎       | 3694/16384 [00:03<00:13, 920.09it/s]\u001B[A\n",
      "IPS 3:  23%|██▎       | 3787/16384 [00:04<00:13, 919.87it/s]\u001B[A\n",
      "IPS 3:  24%|██▎       | 3879/16384 [00:04<00:13, 917.17it/s]\u001B[A\n",
      "IPS 3:  24%|██▍       | 3971/16384 [00:04<00:13, 916.20it/s]\u001B[A\n",
      "IPS 3:  25%|██▍       | 4063/16384 [00:04<00:13, 915.27it/s]\u001B[A\n",
      "IPS 3:  25%|██▌       | 4155/16384 [00:04<00:13, 916.19it/s]\u001B[A\n",
      "IPS 3:  26%|██▌       | 4249/16384 [00:04<00:13, 921.71it/s]\u001B[A\n",
      "IPS 3:  27%|██▋       | 4342/16384 [00:04<00:13, 917.35it/s]\u001B[A\n",
      "IPS 3:  27%|██▋       | 4435/16384 [00:04<00:13, 918.74it/s]\u001B[A"
     ]
    },
    {
     "name": "stdout",
     "output_type": "stream",
     "text": [
      "Epoch 04272: reducing learning rate of group 0 to 8.0000e-05.\n"
     ]
    },
    {
     "name": "stderr",
     "output_type": "stream",
     "text": [
      "\n",
      "IPS 3:  28%|██▊       | 4527/16384 [00:04<00:12, 917.43it/s]\u001B[A\n",
      "IPS 3:  28%|██▊       | 4619/16384 [00:04<00:12, 915.03it/s]\u001B[A\n",
      "IPS 3:  29%|██▉       | 4711/16384 [00:05<00:12, 914.29it/s]\u001B[A\n",
      "IPS 3:  29%|██▉       | 4803/16384 [00:05<00:12, 909.45it/s]\u001B[A\n",
      "IPS 3:  30%|██▉       | 4896/16384 [00:05<00:12, 913.90it/s]\u001B[A\n",
      "IPS 3:  30%|███       | 4988/16384 [00:05<00:12, 914.19it/s]\u001B[A\n",
      "IPS 3:  31%|███       | 5080/16384 [00:05<00:12, 914.75it/s]\u001B[A\n",
      "IPS 3:  32%|███▏      | 5172/16384 [00:05<00:12, 915.85it/s]\u001B[A\n",
      "IPS 3:  32%|███▏      | 5265/16384 [00:05<00:12, 917.31it/s]\u001B[A\n",
      "IPS 3:  33%|███▎      | 5357/16384 [00:05<00:12, 917.46it/s]\u001B[A\n",
      "IPS 3:  33%|███▎      | 5449/16384 [00:05<00:11, 913.32it/s]\u001B[A\n",
      "IPS 3:  34%|███▍      | 5541/16384 [00:05<00:11, 912.07it/s]\u001B[A\n",
      "IPS 3:  34%|███▍      | 5633/16384 [00:06<00:11, 906.70it/s]\u001B[A\n",
      "IPS 3:  35%|███▍      | 5725/16384 [00:06<00:11, 908.27it/s]\u001B[A\n",
      "IPS 3:  36%|███▌      | 5817/16384 [00:06<00:11, 910.15it/s]\u001B[A\n",
      "IPS 3:  36%|███▌      | 5909/16384 [00:06<00:11, 912.81it/s]\u001B[A\n",
      "IPS 3:  37%|███▋      | 6001/16384 [00:06<00:11, 914.09it/s]\u001B[A\n",
      "IPS 3:  37%|███▋      | 6093/16384 [00:06<00:11, 912.70it/s]\u001B[A\n",
      "IPS 3:  38%|███▊      | 6185/16384 [00:06<00:11, 913.54it/s]\u001B[A\n",
      "IPS 3:  38%|███▊      | 6278/16384 [00:06<00:11, 916.93it/s]\u001B[A\n",
      "IPS 3:  39%|███▉      | 6370/16384 [00:06<00:10, 916.23it/s]\u001B[A\n",
      "IPS 3:  39%|███▉      | 6462/16384 [00:06<00:10, 906.37it/s]\u001B[A\n",
      "IPS 3:  40%|████      | 6554/16384 [00:07<00:10, 907.33it/s]\u001B[A\n",
      "IPS 3:  41%|████      | 6645/16384 [00:07<00:10, 904.42it/s]\u001B[A\n",
      "IPS 3:  41%|████      | 6737/16384 [00:07<00:10, 908.02it/s]\u001B[A\n",
      "IPS 3:  42%|████▏     | 6829/16384 [00:07<00:10, 910.38it/s]\u001B[A\n",
      "IPS 3:  42%|████▏     | 6921/16384 [00:07<00:10, 909.41it/s]\u001B[A\n",
      "IPS 3:  43%|████▎     | 7012/16384 [00:07<00:10, 909.29it/s]\u001B[A\n",
      "IPS 3:  43%|████▎     | 7103/16384 [00:07<00:10, 906.57it/s]\u001B[A\n",
      "IPS 3:  44%|████▍     | 7195/16384 [00:07<00:10, 910.12it/s]\u001B[A\n",
      "IPS 3:  44%|████▍     | 7287/16384 [00:07<00:10, 908.86it/s]\u001B[A\n",
      "IPS 3:  45%|████▌     | 7379/16384 [00:07<00:09, 911.53it/s]\u001B[A\n",
      "IPS 3:  46%|████▌     | 7471/16384 [00:08<00:09, 907.94it/s]\u001B[A\n",
      "IPS 3:  46%|████▌     | 7563/16384 [00:08<00:09, 911.01it/s]\u001B[A\n",
      "IPS 3:  47%|████▋     | 7655/16384 [00:08<00:09, 913.34it/s]\u001B[A\n",
      "IPS 3:  48%|████▊     | 7785/16384 [00:08<00:09, 923.87it/s]\u001B[A\n"
     ]
    },
    {
     "name": "stdout",
     "output_type": "stream",
     "text": [
      "Stopping at Epoch 7785\n",
      "Expected utility: 1.0002677\n",
      "IPS 3 Number of samples:  torch.Size([6736, 2])\n",
      "IPS 3 Predicted Gammas:  0.46578702 0.5903053 0.5243925\n"
     ]
    },
    {
     "data": {
      "text/plain": "<Figure size 640x480 with 1 Axes>",
      "image/png": "[encoded data removed]"
     },
     "metadata": {},
     "output_type": "display_data"
    },
    {
     "data": {
      "text/plain": "<Figure size 640x480 with 1 Axes>",
      "image/png": "[encoded data removed]"
     },
     "metadata": {},
     "output_type": "display_data"
    },
    {
     "data": {
      "text/plain": "<Figure size 640x480 with 1 Axes>",
      "image/png": "[encoded data removed]"
     },
     "metadata": {},
     "output_type": "display_data"
    }
   ],
   "source": [
    "# Placeholders for output\n",
    "auction_revenue = []\n",
    "social_welfare = []\n",
    "social_surplus = []\n",
    "# Run repeated auctions\n",
    "# This logic is encoded in the `simulation_run()` method in main.py\n",
    "for i in tqdm(range(num_iter)):\n",
    "    print( f'number of iteration: {i}\\n')\n",
    "    # Simulate impression opportunities\n",
    "    for _ in range(rounds_per_iter):\n",
    "        auction.simulate_opportunity()\n",
    "\n",
    "    # Log 'Gross utility' or welfare\n",
    "    social_welfare.append(sum([agent.gross_utility for agent in auction.agents]))\n",
    "\n",
    "    # Log 'Net utility' or surplus\n",
    "    social_surplus.append(sum([agent.net_utility for agent in auction.agents]))\n",
    "\n",
    "    # Update agents (does nothing in this example, as we have truthful oracles)\n",
    "    # Clear running metrics\n",
    "    for agent_id, agent in enumerate(auction.agents):\n",
    "        print(f'agent: {agent_id}\\n' )\n",
    "        agent.update(iteration=i)\n",
    "        agent.clear_utility()\n",
    "        agent.clear_logs()\n",
    "\n",
    "    # Log revenue\n",
    "    auction_revenue.append(auction.revenue)\n",
    "    auction.clear_revenue()\n",
    "\n",
    "# Rescale metrics per auction round\n",
    "auction_revenue = np.array(auction_revenue) / rounds_per_iter\n",
    "social_welfare = np.array(social_welfare) / rounds_per_iter\n",
    "social_surplus = np.array(social_surplus) / rounds_per_iter"
   ],
   "metadata": {
    "collapsed": false
   }
  },
  {
   "cell_type": "code",
   "execution_count": 7,
   "outputs": [],
   "source": [
    "# data generation\n",
    "# just take the first agent's data (dont know is it correct)\n",
    "# Q2 the bidder updates seems does not use the utilities but the estimated_CTRs instead\n",
    "# it seems to only use the utilities to calculate the welfare and surplu\n",
    "# Input: context\n",
    "# Action: bid/ gamma\n",
    "# Output: reward\n",
    "trained_welfare = {}\n",
    "trained_surplus = {}\n",
    "trained_data = {}\n",
    "val_data = {}\n",
    "test_data = {}\n",
    "num_data = [7000, 2000, 1000]\n",
    "\n",
    "for i, data in enumerate([trained_data, val_data, test_data]):\n",
    "    for _ in range(num_data[i]):\n",
    "        auction.simulate_opportunity()\n",
    "    for agent_id, agent in enumerate(auction.agents):\n",
    "        contexts = np.array(list(opp.context for opp in agent.logs))\n",
    "        bids = np.array(list(opp.bid for opp in agent.logs))\n",
    "        prices = np.array(list(opp.price for opp in agent.logs))\n",
    "        values = np.array(list(opp.value for opp in agent.logs))\n",
    "        outcomes = np.array(list(opp.outcome for opp in agent.logs))\n",
    "        won_mask = np.array(list(opp.won for opp in agent.logs))\n",
    "        estimated_CTRs = np.array(list(opp.estimated_CTR for opp in agent.logs))\n",
    "        gammas = np.array(list(opp.detach().numpy() for opp in agent.bidder.gammas))\n",
    "        utilities = np.zeros_like(values)\n",
    "        utilities[won_mask] = (values[won_mask] * outcomes[won_mask]) - prices[won_mask]\n",
    "        data[agent_id] = np.hstack((contexts, estimated_CTRs.reshape(-1, 1),values.reshape(-1, 1), bids.reshape(-1, 1), gammas.reshape(-1,1), utilities.reshape(-1, 1)))\n",
    "        agent.clear_utility()\n",
    "        agent.clear_logs()\n",
    "        # may consider including estimated_CTRs as input features as well\n",
    "    auction.clear_revenue()"
   ],
   "metadata": {
    "collapsed": false
   }
  },
  {
   "cell_type": "code",
   "execution_count": 8,
   "outputs": [],
   "source": [
    "from sklearn import tree\n",
    "from sklearn.model_selection import GridSearchCV\n",
    "from sklearn.metrics import mean_squared_error, mean_absolute_error"
   ],
   "metadata": {
    "collapsed": false
   }
  },
  {
   "cell_type": "code",
   "execution_count": 9,
   "outputs": [],
   "source": [
    "def gridSearch(model, param_grid, input_data, output_data):\n",
    "    grid_cv = GridSearchCV(model, param_grid, cv=5, n_jobs=-1).fit(input_data, output_data)\n",
    "    print(\"Param for GS\", grid_cv.best_params_)\n",
    "    print(\"CV score for GS\", grid_cv.best_score_)\n",
    "    return grid_cv.best_estimator_"
   ],
   "metadata": {
    "collapsed": false
   }
  },
  {
   "cell_type": "code",
   "execution_count": 10,
   "outputs": [],
   "source": [
    "param_grid = {\n",
    "    'max_depth': [3, 5, 10, 15, 20],\n",
    "    'min_samples_split': [2, 5, 10, 15, 20],\n",
    "    'min_samples_leaf': [1, 2, 5, 10, 15]\n",
    "}\n",
    "model = tree.DecisionTreeRegressor()\n",
    "# should I set random state here?\n",
    "# mb k-fold is not nesscary here\n",
    "# input_data = np.hstack((trained_data[0][:, :5], trained_data[0][:, 5].reshape(-1, 1)))"
   ],
   "metadata": {
    "collapsed": false
   }
  },
  {
   "cell_type": "code",
   "execution_count": 11,
   "outputs": [
    {
     "name": "stdout",
     "output_type": "stream",
     "text": [
      "Agent 0\n",
      "Param for GS {'max_depth': 20, 'min_samples_leaf': 2, 'min_samples_split': 5}\n",
      "CV score for GS 0.8379838166289572\n",
      "Test R2 score: 0.8592997743301143\n",
      "Train MSE:  0.0012652244293950734\n",
      "Test MSE:  0.011384458942854754\n",
      "Agent 1\n",
      "Param for GS {'max_depth': 15, 'min_samples_leaf': 5, 'min_samples_split': 5}\n",
      "CV score for GS 0.7674367291842401\n",
      "Test R2 score: 0.7729714767470058\n",
      "Train MSE:  0.00456550463499884\n",
      "Test MSE:  0.01322971535331776\n",
      "Agent 2\n",
      "Param for GS {'max_depth': 20, 'min_samples_leaf': 5, 'min_samples_split': 2}\n",
      "CV score for GS 0.8083780551135812\n",
      "Test R2 score: 0.8475287302707526\n",
      "Train MSE:  0.001290524878811998\n",
      "Test MSE:  0.0035641867441709297\n"
     ]
    }
   ],
   "source": [
    "# context with bid\n",
    "for agent_id in trained_data.keys():\n",
    "    input_train_data = trained_data[agent_id][:, :5]\n",
    "    label_train_data = trained_data[agent_id][:, 7]\n",
    "    print(\"Agent\", agent_id)\n",
    "    best_estimator = gridSearch(model, param_grid, input_train_data, label_train_data)\n",
    "    input_test_data = test_data[agent_id][:, :5]\n",
    "    label_test_data = test_data[agent_id][:, 7]\n",
    "    print(\"Test R2 score:\", best_estimator.score(input_test_data, label_test_data))\n",
    "\n",
    "    train_preds = best_estimator.predict(input_train_data)\n",
    "    test_preds =best_estimator.predict(input_test_data)\n",
    "    print(\"Train MSE: \", mean_squared_error(label_train_data, train_preds))\n",
    "    print(\"Test MSE: \", mean_squared_error(label_test_data, test_preds))\n",
    "\n",
    "# cv fault is 5"
   ],
   "metadata": {
    "collapsed": false
   }
  },
  {
   "cell_type": "code",
   "execution_count": 12,
   "outputs": [
    {
     "name": "stdout",
     "output_type": "stream",
     "text": [
      "Agent 0\n",
      "Param for GS {'max_depth': 3, 'min_samples_leaf': 1, 'min_samples_split': 2}\n",
      "CV score for GS 1.0\n",
      "Test R2 score: 1.0\n",
      "Train MSE:  0.0\n",
      "Test MSE:  0.0\n",
      "Agent 1\n",
      "Param for GS {'max_depth': 5, 'min_samples_leaf': 15, 'min_samples_split': 20}\n",
      "CV score for GS 0.021066106320980583\n",
      "Test R2 score: 0.03693114111727769\n",
      "Train MSE:  2.3373325379505656e-06\n",
      "Test MSE:  2.5046758717673447e-06\n",
      "Agent 2\n",
      "Param for GS {'max_depth': 10, 'min_samples_leaf': 15, 'min_samples_split': 2}\n",
      "CV score for GS 0.38262133415032284\n",
      "Test R2 score: 0.41897640928138\n",
      "Train MSE:  0.00015646367566942733\n",
      "Test MSE:  0.00022260338975782585\n"
     ]
    }
   ],
   "source": [
    "# context with gamma\n",
    "for agent_id in trained_data.keys():\n",
    "    input_train_data = trained_data[agent_id][:, :5]\n",
    "    label_train_data = trained_data[agent_id][:, 8]\n",
    "    print(\"Agent\", agent_id)\n",
    "    best_estimator = gridSearch(model, param_grid, input_train_data, label_train_data)\n",
    "    input_test_data = test_data[agent_id][:, :5]\n",
    "    label_test_data = test_data[agent_id][:, 8]\n",
    "    print(\"Test R2 score:\", best_estimator.score(input_test_data, label_test_data))\n",
    "\n",
    "    train_preds = best_estimator.predict(input_train_data)\n",
    "    test_preds =best_estimator.predict(input_test_data)\n",
    "    print(\"Train MSE: \", mean_squared_error(label_train_data, train_preds))\n",
    "    print(\"Test MSE: \", mean_squared_error(label_test_data, test_preds))"
   ],
   "metadata": {
    "collapsed": false
   }
  },
  {
   "cell_type": "code",
   "execution_count": 15,
   "outputs": [
    {
     "name": "stdout",
     "output_type": "stream",
     "text": [
      "Agent 0\n",
      "Param for GS {'max_depth': 15, 'min_samples_leaf': 1, 'min_samples_split': 2}\n",
      "CV score for GS 0.9996623574096686\n",
      "Test R2 score: 0.999929297454761\n",
      "Train MSE:  1.1726301420359362e-09\n",
      "Test MSE:  5.720745788406803e-06\n",
      "Agent 1\n",
      "Param for GS {'max_depth': 20, 'min_samples_leaf': 1, 'min_samples_split': 2}\n",
      "CV score for GS 0.9995552228417119\n",
      "Test R2 score: 0.9997473147872284\n",
      "Train MSE:  0.0\n",
      "Test MSE:  1.4724816913139787e-05\n",
      "Agent 2\n",
      "Param for GS {'max_depth': 10, 'min_samples_leaf': 1, 'min_samples_split': 2}\n",
      "CV score for GS 0.9976594603245772\n",
      "Test R2 score: 0.9972499060812139\n",
      "Train MSE:  1.536728908211885e-05\n",
      "Test MSE:  6.428652629421983e-05\n"
     ]
    }
   ],
   "source": [
    "# estimated_CTR and value with bid\n",
    "for agent_id in trained_data.keys():\n",
    "    input_train_data = trained_data[agent_id][:, 5:7]\n",
    "    label_train_data = trained_data[agent_id][:, 7]\n",
    "    print(\"Agent\", agent_id)\n",
    "    best_estimator = gridSearch(model, param_grid, input_train_data, label_train_data)\n",
    "    input_test_data = test_data[agent_id][:, 5:7]\n",
    "    label_test_data = test_data[agent_id][:, 7]\n",
    "    print(\"Test R2 score:\", best_estimator.score(input_test_data, label_test_data))\n",
    "\n",
    "    train_preds = best_estimator.predict(input_train_data)\n",
    "    test_preds =best_estimator.predict(input_test_data)\n",
    "    print(\"Train MSE: \", mean_squared_error(label_train_data, train_preds))\n",
    "    print(\"Test MSE: \", mean_squared_error(label_test_data, test_preds))"
   ],
   "metadata": {
    "collapsed": false
   }
  },
  {
   "cell_type": "code",
   "execution_count": 16,
   "outputs": [
    {
     "name": "stdout",
     "output_type": "stream",
     "text": [
      "Agent 0\n",
      "Param for GS {'max_depth': 3, 'min_samples_leaf': 1, 'min_samples_split': 2}\n",
      "CV score for GS 1.0\n",
      "Test R2 score: 1.0\n",
      "Train MSE:  0.0\n",
      "Test MSE:  0.0\n",
      "Agent 1\n",
      "Param for GS {'max_depth': 3, 'min_samples_leaf': 2, 'min_samples_split': 2}\n",
      "CV score for GS 0.18270268073594892\n",
      "Test R2 score: 0.35832309046159416\n",
      "Train MSE:  1.901135350701434e-06\n",
      "Test MSE:  1.6688242569234583e-06\n",
      "Agent 2\n",
      "Param for GS {'max_depth': 5, 'min_samples_leaf': 15, 'min_samples_split': 2}\n",
      "CV score for GS 0.7184904961705675\n",
      "Test R2 score: 0.705151498157477\n",
      "Train MSE:  9.935975626412825e-05\n",
      "Test MSE:  0.00011296318604548324\n"
     ]
    }
   ],
   "source": [
    "# estimated_CTR and value with gamma\n",
    "for agent_id in trained_data.keys():\n",
    "    input_train_data = trained_data[agent_id][:, 5:7]\n",
    "    label_train_data = trained_data[agent_id][:, 8]\n",
    "    print(\"Agent\", agent_id)\n",
    "    best_estimator = gridSearch(model, param_grid, input_train_data, label_train_data)\n",
    "    input_test_data = test_data[agent_id][:, 5:7]\n",
    "    label_test_data = test_data[agent_id][:, 8]\n",
    "    print(\"Test R2 score:\", best_estimator.score(input_test_data, label_test_data))\n",
    "\n",
    "    train_preds = best_estimator.predict(input_train_data)\n",
    "    test_preds =best_estimator.predict(input_test_data)\n",
    "    print(\"Train MSE: \", mean_squared_error(label_train_data, train_preds))\n",
    "    print(\"Test MSE: \", mean_squared_error(label_test_data, test_preds))"
   ],
   "metadata": {
    "collapsed": false
   }
  },
  {
   "cell_type": "code",
   "execution_count": null,
   "outputs": [],
   "source": [],
   "metadata": {
    "collapsed": false
   }
  }
 ],
 "metadata": {
  "kernelspec": {
   "display_name": "Python 3",
   "language": "python",
   "name": "python3"
  },
  "language_info": {
   "codemirror_mode": {
    "name": "ipython",
    "version": 2
   },
   "file_extension": ".py",
   "mimetype": "text/x-python",
   "name": "python",
   "nbconvert_exporter": "python",
   "pygments_lexer": "ipython2",
   "version": "2.7.6"
  }
 },
 "nbformat": 4,
 "nbformat_minor": 0
}
