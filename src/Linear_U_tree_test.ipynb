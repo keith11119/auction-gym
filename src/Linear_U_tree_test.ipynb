{
 "cells": [
  {
   "cell_type": "code",
   "execution_count": 1,
   "metadata": {
    "collapsed": true
   },
   "outputs": [
    {
     "name": "stdout",
     "output_type": "stream",
     "text": [
      "WARNING:tensorflow:From /Users/keithwu/opt/anaconda3/envs/auction-gym/lib/python3.10/site-packages/tensorflow/python/compat/v2_compat.py:107: disable_resource_variables (from tensorflow.python.ops.variable_scope) is deprecated and will be removed in a future version.\n",
      "Instructions for updating:\n",
      "non-resource variables are not supported in the long term\n"
     ]
    }
   ],
   "source": [
    "import sys\n",
    "sys.path.append(\"/Users/keithwu/Documents/GitHub/auction-gym/src/c_utree_boost\")\n",
    "\n",
    "from c_utree_boost import Agent_boost_Galen_action as Agent\n",
    "from c_utree_boost import Problem"
   ]
  },
  {
   "cell_type": "code",
   "execution_count": 2,
   "outputs": [],
   "source": [
    "problem = Problem.Problem(games_directory=\"../data_DR_L_split/train/\")\n",
    "\n",
    "CUTreeAgent = Agent.CUTreeAgent(problem=problem, max_hist=3000,\n",
    "                            check_fringe_freq=1200, is_episodic=0, training_mode='')"
   ],
   "metadata": {
    "collapsed": false
   }
  },
  {
   "cell_type": "code",
   "execution_count": 3,
   "outputs": [
    {
     "name": "stdout",
     "output_type": "stream",
     "text": [
      "<ipykernel.iostream.OutStream object at 0x105b7fbb0> starting from 100\n",
      "<ipykernel.iostream.OutStream object at 0x105b7fbb0> finishing read tree\n"
     ]
    },
    {
     "name": "stderr",
     "output_type": "stream",
     "text": [
      "2023-07-15 23:11:30.514208: I tensorflow/compiler/mlir/mlir_graph_optimization_pass.cc:357] MLIR V1 optimization pass is not enabled\n",
      "2023-07-15 23:11:30.514810: W tensorflow/tsl/platform/profile_utils/cpu_utils.cc:128] Failed to get CPU frequency: 0 Hz\n"
     ]
    },
    {
     "name": "stdout",
     "output_type": "stream",
     "text": [
      "<ipykernel.iostream.OutStream object at 0x105b7fbb0> finish index:  0 [[0.19805947168878313]]\n",
      "<ipykernel.iostream.OutStream object at 0x105b7fbb0> finish index:  1 [[0.25971584915720425]]\n",
      "<ipykernel.iostream.OutStream object at 0x105b7fbb0> finish index:  2 [[0.835544169353937]]\n",
      "<ipykernel.iostream.OutStream object at 0x105b7fbb0> finish index:  3 [[0.3022566550244523]]\n",
      "<ipykernel.iostream.OutStream object at 0x105b7fbb0> finish index:  4 [[0.2686930976492422]]\n",
      "<ipykernel.iostream.OutStream object at 0x105b7fbb0> finish index:  5 [[0.1276323907041378]]\n",
      "<ipykernel.iostream.OutStream object at 0x105b7fbb0> finish index:  6 [[0.3724612861235378]]\n",
      "<ipykernel.iostream.OutStream object at 0x105b7fbb0> finish index:  7 [[0.6213641880306106]]\n",
      "<ipykernel.iostream.OutStream object at 0x105b7fbb0> finish index:  8 [[0.7519999590735386]]\n",
      "<ipykernel.iostream.OutStream object at 0x105b7fbb0> finish index:  9 [[0.1671225048748769]]\n",
      "<ipykernel.iostream.OutStream object at 0x105b7fbb0> finish index:  10 [[0.3241116999571624]]\n",
      "<ipykernel.iostream.OutStream object at 0x105b7fbb0> finish index:  11 [[0.17875752874295825]]\n",
      "<ipykernel.iostream.OutStream object at 0x105b7fbb0> finish index:  12 [[0.2651766660848415]]\n",
      "<ipykernel.iostream.OutStream object at 0x105b7fbb0> finish index:  13 [[0.2514691570612507]]\n",
      "<ipykernel.iostream.OutStream object at 0x105b7fbb0> finish index:  14 [[0.3830292114470354]]\n",
      "<ipykernel.iostream.OutStream object at 0x105b7fbb0> finish index:  15 [[0.05381750667789564]]\n",
      "<ipykernel.iostream.OutStream object at 0x105b7fbb0> finish index:  16 [[0.40644519462130557]]\n",
      "<ipykernel.iostream.OutStream object at 0x105b7fbb0> finish index:  17 [[0.24491765872301352]]\n",
      "<ipykernel.iostream.OutStream object at 0x105b7fbb0> finish index:  18 [[0.34570822050287553]]\n",
      "<ipykernel.iostream.OutStream object at 0x105b7fbb0> finish index:  19 [[0.36957885589606976]]\n",
      "<ipykernel.iostream.OutStream object at 0x105b7fbb0> finish index:  20 [[0.14872095155203602]]\n",
      "<ipykernel.iostream.OutStream object at 0x105b7fbb0> finish index:  21 [[0.19960814159007823]]\n",
      "<ipykernel.iostream.OutStream object at 0x105b7fbb0> finish index:  22 [[0.8632374412493979]]\n",
      "<ipykernel.iostream.OutStream object at 0x105b7fbb0> finish index:  23 [[0.2469767848191916]]\n",
      "<ipykernel.iostream.OutStream object at 0x105b7fbb0> finish index:  24 [[0.35577931223200243]]\n",
      "<ipykernel.iostream.OutStream object at 0x105b7fbb0> finish index:  25 [[0.28318994084550897]]\n",
      "<ipykernel.iostream.OutStream object at 0x105b7fbb0> finish index:  26 [[0.3576029222071767]]\n",
      "<ipykernel.iostream.OutStream object at 0x105b7fbb0> finish index:  27 [[0.641380794108235]]\n",
      "<ipykernel.iostream.OutStream object at 0x105b7fbb0> finish index:  28 [[0.5006419644097895]]\n",
      "<ipykernel.iostream.OutStream object at 0x105b7fbb0> finish index:  29 [[0.3548987344070744]]\n",
      "<ipykernel.iostream.OutStream object at 0x105b7fbb0> finish index:  30 [[0.409146118452796]]\n",
      "<ipykernel.iostream.OutStream object at 0x105b7fbb0> finish index:  31 [[0.4250816414723916]]\n",
      "<ipykernel.iostream.OutStream object at 0x105b7fbb0> finish index:  32 [[0.2038554302504072]]\n",
      "<ipykernel.iostream.OutStream object at 0x105b7fbb0> finish index:  33 [[0.021072747857361462]]\n",
      "<ipykernel.iostream.OutStream object at 0x105b7fbb0> finish index:  34 [[0.8393241610934785]]\n",
      "<ipykernel.iostream.OutStream object at 0x105b7fbb0> finish index:  35 [[0.3332452083173253]]\n",
      "<ipykernel.iostream.OutStream object at 0x105b7fbb0> finish index:  36 [[0.5802235285288214]]\n",
      "<ipykernel.iostream.OutStream object at 0x105b7fbb0> finish index:  37 [[0.15186911442140727]]\n",
      "<ipykernel.iostream.OutStream object at 0x105b7fbb0> finish index:  38 [[0.40118250551832035]]\n",
      "<ipykernel.iostream.OutStream object at 0x105b7fbb0> finish index:  39 [[0.11701689181837927]]\n",
      "<ipykernel.iostream.OutStream object at 0x105b7fbb0> finish index:  40 [[0.051147237645395194]]\n",
      "<ipykernel.iostream.OutStream object at 0x105b7fbb0> finish index:  41 [[0.6167071575183318]]\n",
      "<ipykernel.iostream.OutStream object at 0x105b7fbb0> finish index:  42 [[0.8506403486908329]]\n",
      "<ipykernel.iostream.OutStream object at 0x105b7fbb0> finish index:  43 [[0.20603437000951264]]\n",
      "<ipykernel.iostream.OutStream object at 0x105b7fbb0> finish index:  44 [[1.0180451848748833]]\n",
      "<ipykernel.iostream.OutStream object at 0x105b7fbb0> finish index:  45 [[0.22378839652064464]]\n",
      "<ipykernel.iostream.OutStream object at 0x105b7fbb0> finish index:  46 [[0.43154903663980193]]\n",
      "<ipykernel.iostream.OutStream object at 0x105b7fbb0> finish index:  47 [[0.42776349132501723]]\n",
      "<ipykernel.iostream.OutStream object at 0x105b7fbb0> finish index:  48 [[0.5239965971545857]]\n",
      "<ipykernel.iostream.OutStream object at 0x105b7fbb0> finish index:  49 [[0.17979979836050464]]\n",
      "<ipykernel.iostream.OutStream object at 0x105b7fbb0> finish index:  50 [[0.16677524336756266]]\n",
      "<ipykernel.iostream.OutStream object at 0x105b7fbb0> finish index:  51 [[0.5928722151382088]]\n",
      "<ipykernel.iostream.OutStream object at 0x105b7fbb0> finish index:  52 [[0.7554226086947203]]\n",
      "<ipykernel.iostream.OutStream object at 0x105b7fbb0> finish index:  53 [[0.2755019780825684]]\n",
      "<ipykernel.iostream.OutStream object at 0x105b7fbb0> finish index:  54 [[0.6823607866778707]]\n",
      "<ipykernel.iostream.OutStream object at 0x105b7fbb0> finish index:  55 [[0.2883391354851228]]\n",
      "<ipykernel.iostream.OutStream object at 0x105b7fbb0> finish index:  56 [[0.22543761129551054]]\n",
      "<ipykernel.iostream.OutStream object at 0x105b7fbb0> finish index:  57 [[0.3195315927124779]]\n",
      "<ipykernel.iostream.OutStream object at 0x105b7fbb0> finish index:  58 [[0.5740144335211088]]\n",
      "<ipykernel.iostream.OutStream object at 0x105b7fbb0> finish index:  59 [[1.1351278146023862]]\n",
      "<ipykernel.iostream.OutStream object at 0x105b7fbb0> finish index:  60 [[0.3254876740582616]]\n",
      "<ipykernel.iostream.OutStream object at 0x105b7fbb0> finish index:  61 [[0.3437122655185447]]\n",
      "<ipykernel.iostream.OutStream object at 0x105b7fbb0> finish index:  62 [[0.27187349473399147]]\n",
      "<ipykernel.iostream.OutStream object at 0x105b7fbb0> finish index:  63 [[0.4441482362380029]]\n",
      "<ipykernel.iostream.OutStream object at 0x105b7fbb0> finish index:  64 [[0.46597204261001135]]\n",
      "<ipykernel.iostream.OutStream object at 0x105b7fbb0> finish index:  65 [[0.5872993797287519]]\n",
      "<ipykernel.iostream.OutStream object at 0x105b7fbb0> finish index:  66 [[0.347948586789143]]\n",
      "<ipykernel.iostream.OutStream object at 0x105b7fbb0> finish index:  67 [[0.309709711497136]]\n",
      "<ipykernel.iostream.OutStream object at 0x105b7fbb0> finish index:  68 [[0.38930254780111206]]\n",
      "<ipykernel.iostream.OutStream object at 0x105b7fbb0> finish index:  69 [[0.1793316588039926]]\n",
      "<ipykernel.iostream.OutStream object at 0x105b7fbb0> finish index:  70 [[0.17745952424189593]]\n",
      "<ipykernel.iostream.OutStream object at 0x105b7fbb0> finish index:  71 [[0.3583013904636494]]\n",
      "<ipykernel.iostream.OutStream object at 0x105b7fbb0> finish index:  72 [[0.5280884538715042]]\n",
      "<ipykernel.iostream.OutStream object at 0x105b7fbb0> finish index:  73 [[0.439818925445267]]\n",
      "<ipykernel.iostream.OutStream object at 0x105b7fbb0> finish index:  74 [[0.4518602418984753]]\n",
      "<ipykernel.iostream.OutStream object at 0x105b7fbb0> finish index:  75 [[0.13373534313047553]]\n",
      "<ipykernel.iostream.OutStream object at 0x105b7fbb0> finish index:  76 [[0.5212969028218473]]\n",
      "<ipykernel.iostream.OutStream object at 0x105b7fbb0> finish index:  77 [[0.4134625393932557]]\n",
      "<ipykernel.iostream.OutStream object at 0x105b7fbb0> finish index:  78 [[0.10961408341749596]]\n",
      "<ipykernel.iostream.OutStream object at 0x105b7fbb0> finish index:  79 [[0.8176259143926802]]\n",
      "<ipykernel.iostream.OutStream object at 0x105b7fbb0> finish index:  80 [[0.21314911562626326]]\n",
      "<ipykernel.iostream.OutStream object at 0x105b7fbb0> finish index:  81 [[0.12449423373884061]]\n",
      "<ipykernel.iostream.OutStream object at 0x105b7fbb0> finish index:  82 [[0.2105071809406306]]\n",
      "<ipykernel.iostream.OutStream object at 0x105b7fbb0> finish index:  83 [[0.20372578282114973]]\n",
      "<ipykernel.iostream.OutStream object at 0x105b7fbb0> finish index:  84 [[0.5562302229942084]]\n",
      "<ipykernel.iostream.OutStream object at 0x105b7fbb0> finish index:  85 [[0.35988283269846844]]\n",
      "<ipykernel.iostream.OutStream object at 0x105b7fbb0> finish index:  86 [[0.463226022762206]]\n",
      "<ipykernel.iostream.OutStream object at 0x105b7fbb0> finish index:  87 [[0.1008802468102109]]\n"
     ]
    },
    {
     "ename": "KeyboardInterrupt",
     "evalue": "",
     "output_type": "error",
     "traceback": [
      "\u001B[0;31m---------------------------------------------------------------------------\u001B[0m",
      "\u001B[0;31mKeyboardInterrupt\u001B[0m                         Traceback (most recent call last)",
      "Cell \u001B[0;32mIn[3], line 1\u001B[0m\n\u001B[0;32m----> 1\u001B[0m pred \u001B[38;5;241m=\u001B[39m \u001B[43mCUTreeAgent\u001B[49m\u001B[38;5;241;43m.\u001B[39;49m\u001B[43mget_prediction\u001B[49m\u001B[43m(\u001B[49m\u001B[43msave_path\u001B[49m\u001B[38;5;241;43m=\u001B[39;49m\u001B[38;5;124;43m\"\u001B[39;49m\u001B[38;5;124;43m\"\u001B[39;49m\u001B[43m,\u001B[49m\u001B[43m \u001B[49m\u001B[43mread_game_number\u001B[49m\u001B[38;5;241;43m=\u001B[39;49m\u001B[38;5;241;43m100\u001B[39;49m\u001B[43m)\u001B[49m\n",
      "File \u001B[0;32m~/Documents/GitHub/auction-gym/src/c_utree_boost/Agent_boost_Galen_action.py:144\u001B[0m, in \u001B[0;36mCUTreeAgent.get_prediction\u001B[0;34m(self, save_path, read_game_number)\u001B[0m\n\u001B[1;32m    142\u001B[0m LR\u001B[38;5;241m.\u001B[39mread_weights(weights\u001B[38;5;241m=\u001B[39mnode\u001B[38;5;241m.\u001B[39mweight, bias\u001B[38;5;241m=\u001B[39mnode\u001B[38;5;241m.\u001B[39mbias)\n\u001B[1;32m    143\u001B[0m LR\u001B[38;5;241m.\u001B[39mreadout_linear_regression_model()\n\u001B[0;32m--> 144\u001B[0m \u001B[43msess\u001B[49m\u001B[38;5;241;43m.\u001B[39;49m\u001B[43mrun\u001B[49m\u001B[43m(\u001B[49m\u001B[43mLR\u001B[49m\u001B[38;5;241;43m.\u001B[39;49m\u001B[43minit\u001B[49m\u001B[43m)\u001B[49m\n\u001B[1;32m    145\u001B[0m qValues_output \u001B[38;5;241m=\u001B[39m sess\u001B[38;5;241m.\u001B[39mrun(LR\u001B[38;5;241m.\u001B[39mpred, feed_dict\u001B[38;5;241m=\u001B[39m{LR\u001B[38;5;241m.\u001B[39mX: [currentObs]})\u001B[38;5;241m.\u001B[39mtolist()\n\u001B[1;32m    146\u001B[0m sess\u001B[38;5;241m.\u001B[39mclose()\n",
      "File \u001B[0;32m~/opt/anaconda3/envs/auction-gym/lib/python3.10/site-packages/tensorflow/python/client/session.py:968\u001B[0m, in \u001B[0;36mBaseSession.run\u001B[0;34m(self, fetches, feed_dict, options, run_metadata)\u001B[0m\n\u001B[1;32m    965\u001B[0m run_metadata_ptr \u001B[38;5;241m=\u001B[39m tf_session\u001B[38;5;241m.\u001B[39mTF_NewBuffer() \u001B[38;5;28;01mif\u001B[39;00m run_metadata \u001B[38;5;28;01melse\u001B[39;00m \u001B[38;5;28;01mNone\u001B[39;00m\n\u001B[1;32m    967\u001B[0m \u001B[38;5;28;01mtry\u001B[39;00m:\n\u001B[0;32m--> 968\u001B[0m   result \u001B[38;5;241m=\u001B[39m \u001B[38;5;28;43mself\u001B[39;49m\u001B[38;5;241;43m.\u001B[39;49m\u001B[43m_run\u001B[49m\u001B[43m(\u001B[49m\u001B[38;5;28;43;01mNone\u001B[39;49;00m\u001B[43m,\u001B[49m\u001B[43m \u001B[49m\u001B[43mfetches\u001B[49m\u001B[43m,\u001B[49m\u001B[43m \u001B[49m\u001B[43mfeed_dict\u001B[49m\u001B[43m,\u001B[49m\u001B[43m \u001B[49m\u001B[43moptions_ptr\u001B[49m\u001B[43m,\u001B[49m\n\u001B[1;32m    969\u001B[0m \u001B[43m                     \u001B[49m\u001B[43mrun_metadata_ptr\u001B[49m\u001B[43m)\u001B[49m\n\u001B[1;32m    970\u001B[0m   \u001B[38;5;28;01mif\u001B[39;00m run_metadata:\n\u001B[1;32m    971\u001B[0m     proto_data \u001B[38;5;241m=\u001B[39m tf_session\u001B[38;5;241m.\u001B[39mTF_GetBuffer(run_metadata_ptr)\n",
      "File \u001B[0;32m~/opt/anaconda3/envs/auction-gym/lib/python3.10/site-packages/tensorflow/python/client/session.py:1191\u001B[0m, in \u001B[0;36mBaseSession._run\u001B[0;34m(self, handle, fetches, feed_dict, options, run_metadata)\u001B[0m\n\u001B[1;32m   1188\u001B[0m \u001B[38;5;66;03m# We only want to really perform the run if fetches or targets are provided,\u001B[39;00m\n\u001B[1;32m   1189\u001B[0m \u001B[38;5;66;03m# or if the call is a partial run that specifies feeds.\u001B[39;00m\n\u001B[1;32m   1190\u001B[0m \u001B[38;5;28;01mif\u001B[39;00m final_fetches \u001B[38;5;129;01mor\u001B[39;00m final_targets \u001B[38;5;129;01mor\u001B[39;00m (handle \u001B[38;5;129;01mand\u001B[39;00m feed_dict_tensor):\n\u001B[0;32m-> 1191\u001B[0m   results \u001B[38;5;241m=\u001B[39m \u001B[38;5;28;43mself\u001B[39;49m\u001B[38;5;241;43m.\u001B[39;49m\u001B[43m_do_run\u001B[49m\u001B[43m(\u001B[49m\u001B[43mhandle\u001B[49m\u001B[43m,\u001B[49m\u001B[43m \u001B[49m\u001B[43mfinal_targets\u001B[49m\u001B[43m,\u001B[49m\u001B[43m \u001B[49m\u001B[43mfinal_fetches\u001B[49m\u001B[43m,\u001B[49m\n\u001B[1;32m   1192\u001B[0m \u001B[43m                         \u001B[49m\u001B[43mfeed_dict_tensor\u001B[49m\u001B[43m,\u001B[49m\u001B[43m \u001B[49m\u001B[43moptions\u001B[49m\u001B[43m,\u001B[49m\u001B[43m \u001B[49m\u001B[43mrun_metadata\u001B[49m\u001B[43m)\u001B[49m\n\u001B[1;32m   1193\u001B[0m \u001B[38;5;28;01melse\u001B[39;00m:\n\u001B[1;32m   1194\u001B[0m   results \u001B[38;5;241m=\u001B[39m []\n",
      "File \u001B[0;32m~/opt/anaconda3/envs/auction-gym/lib/python3.10/site-packages/tensorflow/python/client/session.py:1371\u001B[0m, in \u001B[0;36mBaseSession._do_run\u001B[0;34m(self, handle, target_list, fetch_list, feed_dict, options, run_metadata)\u001B[0m\n\u001B[1;32m   1368\u001B[0m   \u001B[38;5;28;01mreturn\u001B[39;00m \u001B[38;5;28mself\u001B[39m\u001B[38;5;241m.\u001B[39m_call_tf_sessionprun(handle, feed_dict, fetch_list)\n\u001B[1;32m   1370\u001B[0m \u001B[38;5;28;01mif\u001B[39;00m handle \u001B[38;5;129;01mis\u001B[39;00m \u001B[38;5;28;01mNone\u001B[39;00m:\n\u001B[0;32m-> 1371\u001B[0m   \u001B[38;5;28;01mreturn\u001B[39;00m \u001B[38;5;28;43mself\u001B[39;49m\u001B[38;5;241;43m.\u001B[39;49m\u001B[43m_do_call\u001B[49m\u001B[43m(\u001B[49m\u001B[43m_run_fn\u001B[49m\u001B[43m,\u001B[49m\u001B[43m \u001B[49m\u001B[43mfeeds\u001B[49m\u001B[43m,\u001B[49m\u001B[43m \u001B[49m\u001B[43mfetches\u001B[49m\u001B[43m,\u001B[49m\u001B[43m \u001B[49m\u001B[43mtargets\u001B[49m\u001B[43m,\u001B[49m\u001B[43m \u001B[49m\u001B[43moptions\u001B[49m\u001B[43m,\u001B[49m\n\u001B[1;32m   1372\u001B[0m \u001B[43m                       \u001B[49m\u001B[43mrun_metadata\u001B[49m\u001B[43m)\u001B[49m\n\u001B[1;32m   1373\u001B[0m \u001B[38;5;28;01melse\u001B[39;00m:\n\u001B[1;32m   1374\u001B[0m   \u001B[38;5;28;01mreturn\u001B[39;00m \u001B[38;5;28mself\u001B[39m\u001B[38;5;241m.\u001B[39m_do_call(_prun_fn, handle, feeds, fetches)\n",
      "File \u001B[0;32m~/opt/anaconda3/envs/auction-gym/lib/python3.10/site-packages/tensorflow/python/client/session.py:1378\u001B[0m, in \u001B[0;36mBaseSession._do_call\u001B[0;34m(self, fn, *args)\u001B[0m\n\u001B[1;32m   1376\u001B[0m \u001B[38;5;28;01mdef\u001B[39;00m \u001B[38;5;21m_do_call\u001B[39m(\u001B[38;5;28mself\u001B[39m, fn, \u001B[38;5;241m*\u001B[39margs):\n\u001B[1;32m   1377\u001B[0m   \u001B[38;5;28;01mtry\u001B[39;00m:\n\u001B[0;32m-> 1378\u001B[0m     \u001B[38;5;28;01mreturn\u001B[39;00m \u001B[43mfn\u001B[49m\u001B[43m(\u001B[49m\u001B[38;5;241;43m*\u001B[39;49m\u001B[43margs\u001B[49m\u001B[43m)\u001B[49m\n\u001B[1;32m   1379\u001B[0m   \u001B[38;5;28;01mexcept\u001B[39;00m errors\u001B[38;5;241m.\u001B[39mOpError \u001B[38;5;28;01mas\u001B[39;00m e:\n\u001B[1;32m   1380\u001B[0m     message \u001B[38;5;241m=\u001B[39m compat\u001B[38;5;241m.\u001B[39mas_text(e\u001B[38;5;241m.\u001B[39mmessage)\n",
      "File \u001B[0;32m~/opt/anaconda3/envs/auction-gym/lib/python3.10/site-packages/tensorflow/python/client/session.py:1361\u001B[0m, in \u001B[0;36mBaseSession._do_run.<locals>._run_fn\u001B[0;34m(feed_dict, fetch_list, target_list, options, run_metadata)\u001B[0m\n\u001B[1;32m   1358\u001B[0m \u001B[38;5;28;01mdef\u001B[39;00m \u001B[38;5;21m_run_fn\u001B[39m(feed_dict, fetch_list, target_list, options, run_metadata):\n\u001B[1;32m   1359\u001B[0m   \u001B[38;5;66;03m# Ensure any changes to the graph are reflected in the runtime.\u001B[39;00m\n\u001B[1;32m   1360\u001B[0m   \u001B[38;5;28mself\u001B[39m\u001B[38;5;241m.\u001B[39m_extend_graph()\n\u001B[0;32m-> 1361\u001B[0m   \u001B[38;5;28;01mreturn\u001B[39;00m \u001B[38;5;28;43mself\u001B[39;49m\u001B[38;5;241;43m.\u001B[39;49m\u001B[43m_call_tf_sessionrun\u001B[49m\u001B[43m(\u001B[49m\u001B[43moptions\u001B[49m\u001B[43m,\u001B[49m\u001B[43m \u001B[49m\u001B[43mfeed_dict\u001B[49m\u001B[43m,\u001B[49m\u001B[43m \u001B[49m\u001B[43mfetch_list\u001B[49m\u001B[43m,\u001B[49m\n\u001B[1;32m   1362\u001B[0m \u001B[43m                                  \u001B[49m\u001B[43mtarget_list\u001B[49m\u001B[43m,\u001B[49m\u001B[43m \u001B[49m\u001B[43mrun_metadata\u001B[49m\u001B[43m)\u001B[49m\n",
      "File \u001B[0;32m~/opt/anaconda3/envs/auction-gym/lib/python3.10/site-packages/tensorflow/python/client/session.py:1454\u001B[0m, in \u001B[0;36mBaseSession._call_tf_sessionrun\u001B[0;34m(self, options, feed_dict, fetch_list, target_list, run_metadata)\u001B[0m\n\u001B[1;32m   1452\u001B[0m \u001B[38;5;28;01mdef\u001B[39;00m \u001B[38;5;21m_call_tf_sessionrun\u001B[39m(\u001B[38;5;28mself\u001B[39m, options, feed_dict, fetch_list, target_list,\n\u001B[1;32m   1453\u001B[0m                         run_metadata):\n\u001B[0;32m-> 1454\u001B[0m   \u001B[38;5;28;01mreturn\u001B[39;00m \u001B[43mtf_session\u001B[49m\u001B[38;5;241;43m.\u001B[39;49m\u001B[43mTF_SessionRun_wrapper\u001B[49m\u001B[43m(\u001B[49m\u001B[38;5;28;43mself\u001B[39;49m\u001B[38;5;241;43m.\u001B[39;49m\u001B[43m_session\u001B[49m\u001B[43m,\u001B[49m\u001B[43m \u001B[49m\u001B[43moptions\u001B[49m\u001B[43m,\u001B[49m\u001B[43m \u001B[49m\u001B[43mfeed_dict\u001B[49m\u001B[43m,\u001B[49m\n\u001B[1;32m   1455\u001B[0m \u001B[43m                                          \u001B[49m\u001B[43mfetch_list\u001B[49m\u001B[43m,\u001B[49m\u001B[43m \u001B[49m\u001B[43mtarget_list\u001B[49m\u001B[43m,\u001B[49m\n\u001B[1;32m   1456\u001B[0m \u001B[43m                                          \u001B[49m\u001B[43mrun_metadata\u001B[49m\u001B[43m)\u001B[49m\n",
      "\u001B[0;31mKeyboardInterrupt\u001B[0m: "
     ]
    }
   ],
   "source": [
    "pred = CUTreeAgent.get_prediction(save_path=\"\", read_game_number=100)"
   ],
   "metadata": {
    "collapsed": false
   }
  },
  {
   "cell_type": "code",
   "execution_count": null,
   "outputs": [],
   "source": [],
   "metadata": {
    "collapsed": false
   }
  }
 ],
 "metadata": {
  "kernelspec": {
   "display_name": "Python 3",
   "language": "python",
   "name": "python3"
  },
  "language_info": {
   "codemirror_mode": {
    "name": "ipython",
    "version": 2
   },
   "file_extension": ".py",
   "mimetype": "text/x-python",
   "name": "python",
   "nbconvert_exporter": "python",
   "pygments_lexer": "ipython2",
   "version": "2.7.6"
  }
 },
 "nbformat": 4,
 "nbformat_minor": 0
}
